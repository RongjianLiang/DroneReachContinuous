{
 "cells": [
  {
   "cell_type": "code",
   "execution_count": 1,
   "metadata": {
    "collapsed": true,
    "ExecuteTime": {
     "end_time": "2023-06-07T02:17:13.148809096Z",
     "start_time": "2023-06-07T02:17:11.323026566Z"
    }
   },
   "outputs": [],
   "source": [
    "import numpy as np\n",
    "from utils.generating import generate_city\n",
    "from utils.spawning import spawn_drones_central, spawn_obstacles, spawn_goal_central\n",
    "from utils.rendering import mayavi_render_all\n",
    "\n",
    "float_dtype = np.float32\n",
    "int_dtype = np.int32"
   ]
  },
  {
   "cell_type": "markdown",
   "source": [
    "#### Single goal test"
   ],
   "metadata": {
    "collapsed": false
   }
  },
  {
   "cell_type": "code",
   "execution_count": 8,
   "outputs": [],
   "source": [
    "num_drones = 11\n",
    "num_goals = 1\n",
    "num_obstacles = 10\n",
    "num_agents = 22\n",
    "\n",
    "env_size = 20\n",
    "max_buildings_height = 18\n",
    "difficulty_level = 8\n",
    "is_directly_obs = False\n",
    "max_height = 20\n",
    "min_height = 10\n",
    "step_size = 0.3\n",
    "place_radius = 0.3\n",
    "distance = 4.0\n",
    "direction = np.array([0, 1, 0], dtype=int_dtype)\n",
    "drone_centroid = np.array([9.5, 0.5, 5.5], dtype=float_dtype)\n",
    "\n",
    "\n",
    "drone_set = np.random.choice(\n",
    "    np.arange(num_agents - 1), num_drones, replace=False\n",
    ")\n",
    "\n",
    "agent_type = {}\n",
    "drones = {}\n",
    "obstacles = {}\n",
    "goals = {}\n",
    "\n",
    "# similarly, only care about the drones and obstacles\n",
    "for agent_id in range(num_agents - 1):\n",
    "    if agent_id in set(drone_set):\n",
    "        agent_type[agent_id] = 1 # drones\n",
    "        drones[agent_id] = True\n",
    "    else:\n",
    "        agent_type[agent_id] = 1 / 2 # obstacles\n",
    "        obstacles[agent_id] = True\n",
    "\n",
    "# we append the goal agent id and info at last\n",
    "agent_type[num_agents-1] = 0 # goal\n",
    "goals[num_agents] = True\n",
    "d_dict = spawn_drones_central(num_drones,num_agents, agent_type, step_size, drone_centroid)\n",
    "\n",
    "g_dict = spawn_goal_central(num_goals, num_agents, drone_centroid, agent_type,step_size, distance, direction)\n",
    "\n",
    "o_dict = spawn_obstacles(env_size, max_height,min_height,place_radius,num_obstacles, num_agents, agent_type, d_dict, g_dict)\n",
    "\n",
    "c_b_m = generate_city(env_size,max_buildings_height, difficulty_level, is_directly_obs, drone_centroid,d_dict, o_dict, g_dict)\n",
    "\n",
    "mayavi_render_all(env_size, c_b_m, d_dict, g_dict, o_dict)"
   ],
   "metadata": {
    "collapsed": false,
    "ExecuteTime": {
     "end_time": "2023-06-07T01:00:29.149410404Z",
     "start_time": "2023-06-07T01:00:12.227203854Z"
    }
   }
  },
  {
   "cell_type": "markdown",
   "source": [
    "#### Multi-goal test"
   ],
   "metadata": {
    "collapsed": false
   }
  },
  {
   "cell_type": "code",
   "execution_count": 4,
   "outputs": [
    {
     "name": "stdout",
     "output_type": "stream",
     "text": [
      "[9.5 4.5 5.5]\n"
     ]
    }
   ],
   "source": [
    "num_drones = 100\n",
    "num_goals = 1\n",
    "num_obstacles = 3\n",
    "num_agents = num_drones + num_goals + num_obstacles\n",
    "\n",
    "env_size = 20\n",
    "max_buildings_height = 18\n",
    "difficulty_level = 4\n",
    "is_directly_obs = True\n",
    "max_height = 20\n",
    "min_height = 10\n",
    "step_size = 0.3\n",
    "place_radius = 0.3\n",
    "distance = 4.0\n",
    "direction = np.array([0, 1, 0], dtype=int_dtype)\n",
    "drone_centroid = np.array([9.5, 0.5, 5.5], dtype=float_dtype)\n",
    "\n",
    "\n",
    "drone_set = np.random.choice(\n",
    "    np.arange(num_agents - num_goals), num_drones, replace=False\n",
    ")\n",
    "\n",
    "agent_type = {}\n",
    "drones = {}\n",
    "obstacles = {}\n",
    "goals = {}\n",
    "\n",
    "# similarly, only care about the drones and obstacles\n",
    "for agent_id in range(num_agents - num_goals):\n",
    "    if agent_id in set(drone_set):\n",
    "        agent_type[agent_id] = 1 # drones\n",
    "        drones[agent_id] = True\n",
    "    else:\n",
    "        agent_type[agent_id] = 1 / 2 # obstacles\n",
    "        obstacles[agent_id] = True\n",
    "\n",
    "# we append the goal agent id and info at last\n",
    "for goal_id in range(num_agents - num_goals, num_agents):\n",
    "    agent_type[goal_id] = 0 # goal\n",
    "    goals[goal_id] = True\n",
    "\n",
    "d_dict = spawn_drones_central(num_drones,num_agents, agent_type, step_size, drone_centroid)\n",
    "\n",
    "g_dict = spawn_goal_central(num_goals, num_agents, drone_centroid, agent_type,step_size, distance, direction)\n",
    "\n",
    "o_dict = spawn_obstacles(env_size, max_height,min_height,place_radius,num_obstacles, num_agents, agent_type, d_dict, g_dict)\n",
    "\n",
    "c_b_m = generate_city(env_size,max_buildings_height, difficulty_level, is_directly_obs, drone_centroid,d_dict, o_dict, g_dict)"
   ],
   "metadata": {
    "collapsed": false,
    "ExecuteTime": {
     "end_time": "2023-06-07T02:17:54.457843881Z",
     "start_time": "2023-06-07T02:17:54.407650482Z"
    }
   }
  },
  {
   "cell_type": "code",
   "execution_count": 5,
   "outputs": [],
   "source": [
    "\n",
    "mayavi_render_all(env_size, c_b_m, d_dict, g_dict, o_dict)"
   ],
   "metadata": {
    "collapsed": false,
    "ExecuteTime": {
     "end_time": "2023-06-07T02:18:11.306301482Z",
     "start_time": "2023-06-07T02:17:59.225391086Z"
    }
   }
  },
  {
   "cell_type": "code",
   "execution_count": 3,
   "outputs": [
    {
     "data": {
      "text/plain": "{12: array([9.2, 4.5, 5.5], dtype=float32),\n 13: array([9.8, 4.5, 5.5], dtype=float32),\n 14: array([9.5, 4.5, 5.2], dtype=float32),\n 15: array([9.5, 4.5, 5.8], dtype=float32),\n 16: array([9.2, 4.5, 5.8], dtype=float32),\n 17: array([9.8, 4.5, 5.2], dtype=float32),\n 18: array([9.8, 4.5, 5.8], dtype=float32),\n 19: array([9.2, 4.5, 5.2], dtype=float32)}"
     },
     "execution_count": 3,
     "metadata": {},
     "output_type": "execute_result"
    }
   ],
   "source": [
    "g_dict"
   ],
   "metadata": {
    "collapsed": false,
    "ExecuteTime": {
     "end_time": "2023-06-07T01:47:00.975077124Z",
     "start_time": "2023-06-07T01:47:00.974600074Z"
    }
   }
  },
  {
   "cell_type": "code",
   "execution_count": 8,
   "outputs": [
    {
     "data": {
      "text/plain": "{0: array([9.2, 0.5, 5.5], dtype=float32),\n 2: array([9.8, 0.5, 5.5], dtype=float32),\n 3: array([9.5, 0.5, 5.2], dtype=float32),\n 4: array([9.5, 0.5, 5.8], dtype=float32),\n 6: array([9.2, 0.5, 5.8], dtype=float32),\n 7: array([9.8, 0.5, 5.2], dtype=float32),\n 8: array([9.8, 0.5, 5.8], dtype=float32),\n 9: array([9.2, 0.5, 5.2], dtype=float32),\n 10: array([8.9, 0.5, 5.5], dtype=float32),\n 11: array([10.1,  0.5,  5.5], dtype=float32),\n 12: array([9.5, 0.5, 4.9], dtype=float32),\n 13: array([9.5, 0.5, 6.1], dtype=float32)}"
     },
     "execution_count": 8,
     "metadata": {},
     "output_type": "execute_result"
    }
   ],
   "source": [
    "d_dict"
   ],
   "metadata": {
    "collapsed": false,
    "ExecuteTime": {
     "end_time": "2023-06-07T01:49:18.142984309Z",
     "start_time": "2023-06-07T01:49:18.138409388Z"
    }
   }
  },
  {
   "cell_type": "code",
   "execution_count": 9,
   "outputs": [
    {
     "data": {
      "text/plain": "array([[ 8,  0,  5],\n       [ 9,  0,  4],\n       [ 9,  0,  5],\n       [ 9,  0,  6],\n       [10,  0,  5]], dtype=int32)"
     },
     "execution_count": 9,
     "metadata": {},
     "output_type": "execute_result"
    }
   ],
   "source": [
    "from utils.miscellaneous import p_dict_to_block_list\n",
    "p_dict_to_block_list(d_dict)"
   ],
   "metadata": {
    "collapsed": false,
    "ExecuteTime": {
     "end_time": "2023-06-07T01:49:58.003317561Z",
     "start_time": "2023-06-07T01:49:57.960815904Z"
    }
   }
  }
 ],
 "metadata": {
  "kernelspec": {
   "display_name": "Python 3",
   "language": "python",
   "name": "python3"
  },
  "language_info": {
   "codemirror_mode": {
    "name": "ipython",
    "version": 2
   },
   "file_extension": ".py",
   "mimetype": "text/x-python",
   "name": "python",
   "nbconvert_exporter": "python",
   "pygments_lexer": "ipython2",
   "version": "2.7.6"
  }
 },
 "nbformat": 4,
 "nbformat_minor": 0
}
