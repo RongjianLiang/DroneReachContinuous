{
 "cells": [
  {
   "cell_type": "code",
   "execution_count": 1,
   "id": "80839e72",
   "metadata": {},
   "outputs": [],
   "source": [
    "import numpy as np\n",
    "from gym import spaces\n",
    "from gym.utils import seeding\n",
    "\n",
    "import math\n",
    "import matplotlib\n",
    "import random\n",
    "import matplotlib.pyplot as plt\n",
    "\n",
    "import mayavi.mlab\n",
    "from mayavi import mlab\n",
    "\n",
    "float_dtype = np.float32\n",
    "int_dtype = np.int32"
   ]
  },
  {
   "cell_type": "code",
   "execution_count": 7,
   "id": "03af44fe",
   "metadata": {},
   "outputs": [
    {
     "name": "stdout",
     "output_type": "stream",
     "text": [
      "(10, 10)\n"
     ]
    }
   ],
   "source": [
    "x, y= np.mgrid[0.5:9.5:10j, 0.5:9.5:10j]\n",
    "print(x.shape)"
   ]
  },
  {
   "cell_type": "code",
   "execution_count": 8,
   "id": "ef3c05b8",
   "metadata": {},
   "outputs": [
    {
     "name": "stdout",
     "output_type": "stream",
     "text": [
      "[[0.5 0.5 0.5 0.5 0.5 0.5 0.5 0.5 0.5 0.5]\n",
      " [1.5 1.5 1.5 1.5 1.5 1.5 1.5 1.5 1.5 1.5]\n",
      " [2.5 2.5 2.5 2.5 2.5 2.5 2.5 2.5 2.5 2.5]\n",
      " [3.5 3.5 3.5 3.5 3.5 3.5 3.5 3.5 3.5 3.5]\n",
      " [4.5 4.5 4.5 4.5 4.5 4.5 4.5 4.5 4.5 4.5]\n",
      " [5.5 5.5 5.5 5.5 5.5 5.5 5.5 5.5 5.5 5.5]\n",
      " [6.5 6.5 6.5 6.5 6.5 6.5 6.5 6.5 6.5 6.5]\n",
      " [7.5 7.5 7.5 7.5 7.5 7.5 7.5 7.5 7.5 7.5]\n",
      " [8.5 8.5 8.5 8.5 8.5 8.5 8.5 8.5 8.5 8.5]\n",
      " [9.5 9.5 9.5 9.5 9.5 9.5 9.5 9.5 9.5 9.5]]\n"
     ]
    }
   ],
   "source": [
    "print(x)"
   ]
  },
  {
   "cell_type": "code",
   "execution_count": 9,
   "id": "a141539b",
   "metadata": {},
   "outputs": [
    {
     "name": "stdout",
     "output_type": "stream",
     "text": [
      "[[0.5 1.5 2.5 3.5 4.5 5.5 6.5 7.5 8.5 9.5]\n",
      " [0.5 1.5 2.5 3.5 4.5 5.5 6.5 7.5 8.5 9.5]\n",
      " [0.5 1.5 2.5 3.5 4.5 5.5 6.5 7.5 8.5 9.5]\n",
      " [0.5 1.5 2.5 3.5 4.5 5.5 6.5 7.5 8.5 9.5]\n",
      " [0.5 1.5 2.5 3.5 4.5 5.5 6.5 7.5 8.5 9.5]\n",
      " [0.5 1.5 2.5 3.5 4.5 5.5 6.5 7.5 8.5 9.5]\n",
      " [0.5 1.5 2.5 3.5 4.5 5.5 6.5 7.5 8.5 9.5]\n",
      " [0.5 1.5 2.5 3.5 4.5 5.5 6.5 7.5 8.5 9.5]\n",
      " [0.5 1.5 2.5 3.5 4.5 5.5 6.5 7.5 8.5 9.5]\n",
      " [0.5 1.5 2.5 3.5 4.5 5.5 6.5 7.5 8.5 9.5]]\n"
     ]
    }
   ],
   "source": [
    "print(y)"
   ]
  }
 ],
 "metadata": {
  "kernelspec": {
   "display_name": "Python 3 (ipykernel)",
   "language": "python",
   "name": "python3"
  },
  "language_info": {
   "codemirror_mode": {
    "name": "ipython",
    "version": 3
   },
   "file_extension": ".py",
   "mimetype": "text/x-python",
   "name": "python",
   "nbconvert_exporter": "python",
   "pygments_lexer": "ipython3",
   "version": "3.7.12"
  }
 },
 "nbformat": 4,
 "nbformat_minor": 5
}
