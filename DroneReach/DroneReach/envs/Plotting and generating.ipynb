{
 "cells": [
  {
   "cell_type": "code",
   "execution_count": 1,
   "id": "a3052419",
   "metadata": {
    "ExecuteTime": {
     "end_time": "2023-06-05T03:17:50.738912034Z",
     "start_time": "2023-06-05T03:17:48.205068366Z"
    }
   },
   "outputs": [],
   "source": [
    "import numpy as np\n",
    "from gym import spaces\n",
    "from gym.utils import seeding\n",
    "\n",
    "import math\n",
    "import matplotlib\n",
    "import random\n",
    "import matplotlib.pyplot as plt\n",
    "\n",
    "import mayavi.mlab\n",
    "from mayavi import mlab\n",
    "\n",
    "float_dtype = np.float32\n",
    "int_dtype = np.int32"
   ]
  },
  {
   "cell_type": "code",
   "execution_count": 2,
   "id": "909fcbe1",
   "metadata": {
    "ExecuteTime": {
     "end_time": "2023-06-05T03:17:55.765236042Z",
     "start_time": "2023-06-05T03:17:55.752881815Z"
    }
   },
   "outputs": [],
   "source": [
    "def Bresenham3D(x1, y1, z1, x2, y2, z2):\n",
    "    ListOfPoints = [[x1, y1, z1]]\n",
    "    dx = abs(x2 - x1)\n",
    "    dy = abs(y2 - y1)\n",
    "    dz = abs(z2 - z1)\n",
    "    if x2 > x1:\n",
    "        xs = 1\n",
    "    else:\n",
    "        xs = -1\n",
    "    if y2 > y1:\n",
    "        ys = 1\n",
    "    else:\n",
    "        ys = -1\n",
    "    if z2 > z1:\n",
    "        zs = 1\n",
    "    else:\n",
    "        zs = -1\n",
    "\n",
    "    # Driving axis is X-axis\"\n",
    "    if dx >= dy and dx >= dz:\n",
    "        p1 = 2 * dy - dx\n",
    "        p2 = 2 * dz - dx\n",
    "        while x1 != x2:\n",
    "            x1 += xs\n",
    "            if p1 >= 0:\n",
    "                y1 += ys\n",
    "                p1 -= 2 * dx\n",
    "            if p2 >= 0:\n",
    "                z1 += zs\n",
    "                p2 -= 2 * dx\n",
    "            p1 += 2 * dy\n",
    "            p2 += 2 * dz\n",
    "            ListOfPoints.append([x1, y1, z1])\n",
    "\n",
    "    # Driving axis is Y-axis\"\n",
    "    elif dy >= dx and dy >= dz:\n",
    "        p1 = 2 * dx - dy\n",
    "        p2 = 2 * dz - dy\n",
    "        while y1 != y2:\n",
    "            y1 += ys\n",
    "            if p1 >= 0:\n",
    "                x1 += xs\n",
    "                p1 -= 2 * dy\n",
    "            if p2 >= 0:\n",
    "                z1 += zs\n",
    "                p2 -= 2 * dy\n",
    "            p1 += 2 * dx\n",
    "            p2 += 2 * dz\n",
    "            ListOfPoints.append([x1, y1, z1])\n",
    "\n",
    "    # Driving axis is Z-axis\"\n",
    "    else:\n",
    "        p1 = 2 * dy - dz\n",
    "        p2 = 2 * dx - dz\n",
    "        while z1 != z2:\n",
    "            z1 += zs\n",
    "            if p1 >= 0:\n",
    "                y1 += ys\n",
    "                p1 -= 2 * dz\n",
    "            if p2 >= 0:\n",
    "                x1 += xs\n",
    "                p2 -= 2 * dz\n",
    "            p1 += 2 * dy\n",
    "            p2 += 2 * dx\n",
    "            ListOfPoints.append([x1, y1, z1])\n",
    "    return ListOfPoints"
   ]
  },
  {
   "cell_type": "code",
   "execution_count": 3,
   "id": "1016f4ca",
   "metadata": {
    "ExecuteTime": {
     "end_time": "2023-06-05T03:18:09.532530388Z",
     "start_time": "2023-06-05T03:18:09.513797745Z"
    }
   },
   "outputs": [],
   "source": [
    "def get_blocks_id_list(loc_dict):\n",
    "    \"\"\"\n",
    "    Given a location dictionary whose values are float coordinates,\n",
    "    get the blocks ids these coordinates are in.\n",
    "    :param loc_dict:\n",
    "    :return:\n",
    "    \"\"\"\n",
    "    loc_list = np.unique(\n",
    "        [\n",
    "            (coords - coords % 1).astype(int_dtype) for coords in loc_dict.values()\n",
    "        ],\n",
    "        axis=0\n",
    "    )\n",
    "    return loc_list\n",
    "\n",
    "def get_blocks_id_from_centroids(centroids_list):\n",
    "    \"\"\"\n",
    "    Given a list whose values are block centroids,\n",
    "    get the corresponding block ids these coordinates are in. \n",
    "    \"\"\"\n",
    "    loc_list = np.unique(\n",
    "        [\n",
    "            (coords - coords % 1).astype(int_dtype) for coords in centroids_list\n",
    "        ], \n",
    "        axis=0\n",
    "    )\n",
    "    return loc_list "
   ]
  },
  {
   "cell_type": "code",
   "execution_count": 4,
   "id": "aceb8d73",
   "metadata": {
    "ExecuteTime": {
     "end_time": "2023-06-05T03:18:50.645754590Z",
     "start_time": "2023-06-05T03:18:50.449785980Z"
    }
   },
   "outputs": [],
   "source": [
    "def spawn_goal(distance, agent_type, drone_centroid=np.array([5.5, 0.5, 5.5])):\n",
    "    \"\"\"\n",
    "    can be replaced with (self).\n",
    "    only accept 1 goal. distance and agent type can be accessed via self.\n",
    "    :param distance: a floating number indicating distance between.\n",
    "    :param agent_type:\n",
    "    :param drone_centroid:\n",
    "    :return: a goal dict whose key is goal agent_type id, and a goal coord list.\n",
    "    \"\"\"\n",
    "    # goal would be randomly placed within this sphere around the centroid\n",
    "\n",
    "    # get the goal agent_ids\n",
    "    goal_id = [i for i in range(num_agents) if agent_type[i] == 0]\n",
    "    assert len(goal_id)==1\n",
    "    goal_dict = {}\n",
    "    distance = np.array([0, 1, 0]) * distance\n",
    "    place_radius = 0.4\n",
    "    displacement = np.random.random(3) * place_radius\n",
    "    # print(f\"displacement: {displacement}\")\n",
    "    goal_dict[goal_id[0]] = drone_centroid + distance + displacement\n",
    "    return goal_dict"
   ]
  },
  {
   "cell_type": "code",
   "execution_count": 5,
   "id": "14580d88",
   "metadata": {
    "ExecuteTime": {
     "end_time": "2023-06-05T03:18:54.775536288Z",
     "start_time": "2023-06-05T03:18:54.774112150Z"
    }
   },
   "outputs": [],
   "source": [
    "def spawn_drones(num_drones, agent_type, centroid=np.array([5.5, 0.5, 5.5])):\n",
    "    \"\"\"\n",
    "    can be replaced with (self).\n",
    "    num_drones and agent_type can be accessed via self.\n",
    "    :return: a drones dict whose keys are drone agent type id, and a drones coord list.\n",
    "    \"\"\"\n",
    "    # spacing parameters, determine the initial distance between drones\n",
    "    spacing = float_dtype(0.25)\n",
    "    # actually, the coordinate in centroid is indicating the block number\n",
    "    # we need to stagger it to get the block centroid coords\n",
    "    # print(centroid)\n",
    "    even_rule = np.array([\n",
    "        [-1, 0, 0], [1, 0, 0],\n",
    "        [0, 0, -1], [0, 0, 1],\n",
    "        [-1, 0, 1], [1, 0, -1],\n",
    "        [1, 0, 1], [-1, 0, -1]\n",
    "    ], dtype=int_dtype)\n",
    "\n",
    "    # get the drone id\n",
    "    drones_id = [i for i in range(num_agents) if agent_type[i] == 1]\n",
    "    assert len(drones_id)==num_drones\n",
    "\n",
    "    drones_loc = {}\n",
    "    if num_drones == 1:\n",
    "        drones_loc[drones_id[0]] = centroid\n",
    "    elif num_drones % 2 == 0: # even number of drones\n",
    "        for _id in range(num_drones):\n",
    "            # print(\"step:\", even_rule[drone_id % len(even_rule)])\n",
    "            # print(\"spacing:\", spacing)\n",
    "            # print(\"iter:\", math.ceil(drone_id / len(even_rule)))\n",
    "            update = even_rule[_id % len(even_rule)] * spacing * math.ceil((_id + 1) / len(even_rule))\n",
    "            # print(\"update: \", update, \"type: \", type(update))\n",
    "            drones_loc[drones_id[_id]] = (\n",
    "                centroid + update\n",
    "            )\n",
    "    else:\n",
    "        # odd number of drones\n",
    "        drones_loc[drones_id[0]] = centroid\n",
    "        for _id in range(num_drones - 1):\n",
    "            update = even_rule[_id % len(even_rule)] * spacing * math.ceil((_id\n",
    "              + 1)/ len(even_rule))\n",
    "            drones_loc[drones_id[_id + 1]] = (\n",
    "                centroid + update\n",
    "            )\n",
    "\n",
    "    return drones_loc"
   ]
  },
  {
   "cell_type": "code",
   "execution_count": 6,
   "id": "ff33b81f",
   "metadata": {
    "ExecuteTime": {
     "end_time": "2023-06-05T03:18:59.459017407Z",
     "start_time": "2023-06-05T03:18:59.454801106Z"
    }
   },
   "outputs": [],
   "source": [
    "def spawn_obstacles(num_obstacles, agent_type, goal_loc_centroid, drones_loc_centroid=np.array([5.5, 0.5, 5.5])):\n",
    "    \"\"\"\n",
    "\n",
    "    :param num_obstacles:\n",
    "    :param agent_type:\n",
    "    :param goal_loc_centroid:\n",
    "    :param drones_loc_centroid:\n",
    "    :return: a obstacles dict whose keys are obstacles agent type id, and a obstacles coord list\n",
    "    \"\"\"\n",
    "    # get the occupied blocks of drones and goal\n",
    "    # 3 by 3 blocks around drones centroid and 3 by 3 blocks around goal centroid are reserved.\n",
    "    env_size = 10\n",
    "    env_max_height = 20\n",
    "    env_min_height = 5 # no spawning of obstacles below this height\n",
    "  \n",
    "    stagger = np.array([0.5, 0.5, 0.5], dtype=float_dtype)\n",
    "    place_radius = 0.4\n",
    "    displacement = (np.random.rand(num_obstacles, 3) * place_radius).astype(float_dtype)\n",
    "    # get the obstacles agent ids\n",
    "    obstacles_id = [i for i in range(num_agents) if agent_type[i] == 0.5]\n",
    "    assert len(obstacles_id)==num_obstacles\n",
    "\n",
    "    three_by_three_walk = np.array(\n",
    "        [\n",
    "            [0, 0, 0], [1, 0, 0], [-1, 0, 0],\n",
    "            [0, 0, 1], [1, 0, 1], [-1, 0, 1],\n",
    "            [0, 0, -1], [1, 0, -1], [-1, 0, -1]\n",
    "        ]\n",
    "    ).astype(int_dtype)\n",
    "    drones_blocks_centroids = [(\n",
    "            drones_loc_centroid + three_by_three_walk[i])\n",
    "            for i in range(three_by_three_walk.shape[0]) ]\n",
    "\n",
    "    goal_blocks_centroids = [(\n",
    "            goal_loc_centroid + three_by_three_walk[i])\n",
    "            for i in range(three_by_three_walk.shape[0]) ]\n",
    "    \n",
    "    # need to convert these floating points coords into block ids. \n",
    "    \n",
    "    \n",
    "    occupied_centroids = np.concatenate((\n",
    "        drones_blocks_centroids, goal_blocks_centroids))\n",
    "    \n",
    "    occupied = get_blocks_id_from_centroids(occupied_centroids)\n",
    "\n",
    "    empty_blocks_id = [\n",
    "        np.array([x, y, z]).astype(int_dtype)\n",
    "        for x in range(env_size)\n",
    "        for y in range(env_size)\n",
    "        for z in range(env_min_height, env_max_height) if not\n",
    "        np.any(\n",
    "            np.all(\n",
    "                np.array([x, y, z]).astype(int_dtype) == occupied, axis=1\n",
    "            )\n",
    "        )\n",
    "    ]\n",
    "\n",
    "    empty_indices = np.random.choice(\n",
    "        len(empty_blocks_id), num_obstacles, replace=False\n",
    "    )\n",
    "\n",
    "    obstacles_blocks = [\n",
    "        empty_blocks_id[empty_indices[i]] for i in range(num_obstacles)\n",
    "    ]\n",
    "\n",
    "    obstacles_loc_dict = {\n",
    "        obstacles_id[_id]: \n",
    "        np.array(obstacles_blocks[_id] + stagger + displacement[_id], dtype=float_dtype)\n",
    "        for _id in range(num_obstacles)\n",
    "    }\n",
    "     # obstacles_coord_list = [\n",
    "     #     obstacles_blocks[i] for i in range(num_obstacles)\n",
    "     # ]\n",
    "    return obstacles_loc_dict\n"
   ]
  },
  {
   "cell_type": "code",
   "execution_count": 26,
   "id": "4c2a692c",
   "metadata": {
    "ExecuteTime": {
     "end_time": "2023-06-05T03:43:30.386067550Z",
     "start_time": "2023-06-05T03:43:30.335465560Z"
    }
   },
   "outputs": [],
   "source": [
    "def test_generate_city(size, max_height, difficulty_level, sec_num=2):\n",
    "    \"\"\"\n",
    "    return extra stats: (h_mean, h_std,fill_per_sec)\n",
    "    :param size:\n",
    "    :param max_height:\n",
    "    :param difficulty_level:\n",
    "    :param sec_num:\n",
    "    :return:\n",
    "    \"\"\"\n",
    "    city_base_map = np.zeros((size, size), dtype=int)\n",
    "\n",
    "    # the interpolation of mean height and std height\n",
    "    mean_height_list = np.linspace(0.3, 0.9, 10)\n",
    "    std_height_list = np.geomspace(2, 0.4, 10)\n",
    "\n",
    "    # randomly sample pair from above\n",
    "    idx = random.randint(0, len(mean_height_list)-1)\n",
    "    mean_height = mean_height_list[idx]\n",
    "    std_height = std_height_list[idx]\n",
    "\n",
    "    # based on difficulty level, select the cluster-ness\n",
    "    fill_per_sec = difficulty_level / 10\n",
    "\n",
    "    h_mean = int(max_height * mean_height)\n",
    "    h_std = int(h_mean * std_height)\n",
    "    cell_size = int(size / sec_num)\n",
    "    num = int(fill_per_sec * cell_size**2)\n",
    "\n",
    "    a_min = np.zeros((num), dtype=int)\n",
    "    a_max = np.full((num), max_height, dtype=int)\n",
    "\n",
    "    for i in range(sec_num):\n",
    "        for j in range(sec_num):\n",
    "            building_height = np.clip(np.random.normal(h_mean, h_std, num), a_min, a_max)\n",
    "            height_list = np.concatenate((building_height, np.zeros(cell_size*cell_size - num)))\n",
    "            np.random.shuffle(height_list)\n",
    "            block_height = np.reshape(height_list, (cell_size, cell_size))\n",
    "            city_base_map[i*cell_size: (i+1)*cell_size, j*cell_size:(j+1)*cell_size] = block_height\n",
    "\n",
    "    return city_base_map, (h_mean, h_std,fill_per_sec)"
   ]
  },
  {
   "cell_type": "code",
   "execution_count": 8,
   "id": "b56372d5",
   "metadata": {
    "ExecuteTime": {
     "end_time": "2023-06-05T03:19:05.965430939Z",
     "start_time": "2023-06-05T03:19:05.951801960Z"
    }
   },
   "outputs": [],
   "source": [
    "def get_buildings_dict(cbm):\n",
    "    env_size = 10\n",
    "    b_dict = {}\n",
    "    for x in range(env_size):\n",
    "        for y in range(env_size):\n",
    "            if cbm[x, y]:\n",
    "                b_dict[(x, y)] = cbm[x, y]\n",
    "    return b_dict"
   ]
  },
  {
   "cell_type": "markdown",
   "id": "355b5255",
   "metadata": {},
   "source": [
    "### Still WIP..."
   ]
  },
  {
   "cell_type": "code",
   "execution_count": null,
   "id": "60a4b1ac",
   "metadata": {},
   "outputs": [],
   "source": [
    "def spawn_and_generate_city(\n",
    "        size,\n",
    "        max_height,\n",
    "        difficulty_level,\n",
    "        is_directly_obs,\n",
    "        distance,\n",
    "        agent_type,\n",
    "        num_drones,\n",
    "        num_obstacles,\n",
    "        sec_num=2):\n",
    "    \n",
    "    city_base_map = np.zeros((size, size), dtype=int)\n",
    "    env_size = 10\n",
    "\n",
    "    # the interpolation of mean height and std height\n",
    "    mean_height_list = np.linspace(0.3, 0.9, 10)\n",
    "    std_height_list = np.geomspace(2, 0.4, 10)\n",
    "    \n",
    "    # randomly sample pair from above\n",
    "    idx = random.randint(0, len(mean_height_list)-1)\n",
    "    mean_height = mean_height_list[idx]\n",
    "    std_height = std_height_list[idx]\n",
    "    \n",
    "    # based on difficulty level, select the cluster-ness\n",
    "    fill_per_sec = difficulty_level / 10\n",
    "    \n",
    "    h_mean = int(max_height * mean_height)\n",
    "    h_std = int(h_mean * std_height)\n",
    "    cell_size = int(size / sec_num)\n",
    "    num = int(fill_per_sec * cell_size**2)\n",
    "\n",
    "    a_min = np.zeros(num, dtype=int)\n",
    "    a_max = np.full(num, max_height, dtype=int)\n",
    "\n",
    "    # spawn the drones formation around the centroid of block (5, 0, 5), using default\n",
    "    drones_loc_dict = spawn_drones(num_drones, agent_type)\n",
    "\n",
    "    # spawn the goal location, using default block centroid of (5, 0, 5)\n",
    "    # the distance here is a floating point value.\n",
    "    distance = distance * env_size\n",
    "    goal_loc_dict = spawn_goal(distance, agent_type)\n",
    "    goal_loc = goal_loc_dict[num_agents - 1]\n",
    "\n",
    "    obstacles_loc_dict = spawn_obstacles(num_obstacles, agent_type, goal_loc)\n",
    "\n",
    "    # convert the float coordinates into block ids\n",
    "    drones_blocks_id = get_blocks_id_list(drones_loc_dict)\n",
    "    obstacles_blocks_id = get_blocks_id_list(obstacles_loc_dict)\n",
    "    goal_blocks_id = get_blocks_id_list(goal_loc_dict)\n",
    "\n",
    "    # get the blocks that in the line of sight between drones and goal.\n",
    "    # make use of Bresenham3D algorithm, and we only care about the drone centroid.\n",
    "    # drone centroid should be a class attribute\n",
    "    drones_centroid = np.array([5, 0, 5]).astype(int_dtype)\n",
    "    gx, gy, gz = goal_loc[0]\n",
    "    d_x, d_y, d_z = drones_centroid\n",
    "    blk_sight_list = Bresenham3D(gx, gy, gz, d_x, d_y, d_z)\n",
    "\n",
    "    occupied_blocks_list = np.concatenate(\n",
    "        drones_blocks_id, obstacles_blocks_id, goal_blocks_id\n",
    "    )\n",
    "\n",
    "    envelope = np.full((10, 10), 20, dtype=int_dtype) # maximum attainable heights\n",
    "\n",
    "    # first just generate\n",
    "    for i in range(sec_num):\n",
    "        for j in range(sec_num):\n",
    "            building_height = np.clip(np.random.normal(h_mean, h_std, num), a_min, a_max)\n",
    "            height_list = np.concatenate((building_height, np.zeros(cell_size*cell_size - num)))\n",
    "            np.random.shuffle(height_list)\n",
    "            block_height = np.reshape(height_list, (cell_size, cell_size))\n",
    "            city_base_map[i*cell_size: (i+1)*cell_size, j*cell_size:(j+1)*cell_size] = block_height\n",
    "\n",
    "    # TODO: how many blocks must be removed/added at each locs - hard quotas map\n",
    "    # TODO: just perform the hard update\n",
    "    # check the occupied location\n",
    "\n",
    "    # put the occ list inside\n",
    "    for (x, y, z) in occupied_blocks_list:\n",
    "        envelope[x, y] = z - 1\n",
    "\n",
    "    # depending on path_clr:\n",
    "    # if path should be clear, then add path blocks as well\n",
    "    # else, put in negative values indicating current difference\n",
    "    if is_directly_obs:\n",
    "        for (x, y, z) in blk_sight_list:\n",
    "            envelope[x, y] = z - 1\n",
    "    else:\n",
    "        for (x, y, _) in path:\n",
    "            city_base_map[x, y] = 5 # just set the height first!\n",
    "\n",
    "    # perform the hard update\n",
    "    city_base_map = np.where(city_base_map < envelope, city_base_map, envelope)\n",
    "\n",
    "    return city_base_map"
   ]
  },
  {
   "cell_type": "code",
   "execution_count": 9,
   "id": "b3580fa4",
   "metadata": {
    "ExecuteTime": {
     "end_time": "2023-06-05T03:19:21.640104957Z",
     "start_time": "2023-06-05T03:19:21.598837348Z"
    }
   },
   "outputs": [],
   "source": [
    "def mayavi_render_point(p_):\n",
    "    x_, y_, z_ = np.transpose(p_)\n",
    "    mayavi.mlab.points3d(\n",
    "        x_, y_, z_, color=(1, 0, 0), scale_factor=0.05\n",
    "    )\n",
    "    mayavi.mlab.show()\n",
    "\n",
    "def mayavi_render_city(data):\n",
    "    xx, yy, zz = np.where(data==1)\n",
    "    mayavi.mlab.points3d(\n",
    "        xx, yy, zz, mode=\"cube\", color=(0, 1, 0), scale_factor=1\n",
    "    )\n",
    "    mayavi.mlab.show()\n",
    "\n",
    "def mayavi_render_all(data, p_):\n",
    "    \"\"\"\n",
    "    render city, as well as drones, goal, and obstacles with different colors.\n",
    "    :param data: city bool maps\n",
    "    :param p_: expected three un-transposed coords lists\n",
    "    :return: none.\n",
    "    \"\"\"\n",
    "    x, y = np.mgrid[0.5:9.5:10j, 0.5:9.5:10j]\n",
    "    mlab.barchart(x, y, data, colormap='inferno')\n",
    "    mlab.vectorbar()\n",
    "\n",
    "    a_, b_, c_ = p_\n",
    "\n",
    "    x1, y1, z1 = np.transpose(a_)\n",
    "    mayavi.mlab.points3d(\n",
    "        x1, y1, z1, color=(1, 0, 0), scale_factor=0.15\n",
    "    )\n",
    "    \n",
    "#     245, 66, 182\n",
    "    x2, y2, z2 = np.transpose(b_)\n",
    "    mayavi.mlab.points3d(\n",
    "        x2, y2, z2, color=(245/255, 66/255, 182/255), scale_factor=0.15\n",
    "    )\n",
    "\n",
    "    x3, y3, z3 = np.transpose(c_)\n",
    "    mayavi.mlab.points3d(\n",
    "        x3, y3, z3, color=(1, 1, 0.25), scale_factor=0.15\n",
    "    )\n",
    "    mayavi.mlab.show()"
   ]
  },
  {
   "cell_type": "markdown",
   "id": "e9c2861b",
   "metadata": {},
   "source": [
    "## Integrated testing"
   ]
  },
  {
   "cell_type": "code",
   "execution_count": 27,
   "id": "f17aa2f7",
   "metadata": {
    "ExecuteTime": {
     "end_time": "2023-06-05T03:43:38.927643751Z",
     "start_time": "2023-06-05T03:43:38.919296202Z"
    }
   },
   "outputs": [
    {
     "name": "stdout",
     "output_type": "stream",
     "text": [
      "agent_type: {0: 0.5, 1: 0.5, 2: 0.5, 3: 0.5, 4: 0.5, 5: 1, 6: 0.5, 7: 1, 8: 1, 9: 0.5, 10: 0.5, 11: 1, 12: 0.5, 13: 0.5, 14: 1, 15: 1, 16: 1, 17: 1, 18: 0}\n",
      "\n",
      "drones set: [ 7 15  5 14  8 17 11 16]\n",
      "\n",
      "drones: {5: True, 7: True, 8: True, 11: True, 14: True, 15: True, 16: True, 17: True}\n",
      "\n",
      "obstacles: {0: True, 1: True, 2: True, 3: True, 4: True, 6: True, 9: True, 10: True, 12: True, 13: True}\n",
      "\n",
      "goals:{19: True}\n",
      "\n"
     ]
    }
   ],
   "source": [
    "num_drones = 8\n",
    "num_goals = 1\n",
    "num_obstacles = 10\n",
    "num_agents = 19\n",
    "\n",
    "drone_set = np.random.choice(\n",
    "    np.arange(num_agents - 1), num_drones, replace=False\n",
    ")\n",
    "agent_type = {}\n",
    "drones = {}\n",
    "obstacles = {}\n",
    "goals = {}\n",
    "# similarly, only care about the drones and obstacles\n",
    "for agent_id in range(num_agents - 1):\n",
    "    if agent_id in set(drone_set):\n",
    "        agent_type[agent_id] = 1 # drones\n",
    "        drones[agent_id] = True\n",
    "    else:\n",
    "        agent_type[agent_id] = 1 / 2 # obstacles\n",
    "        obstacles[agent_id] = True\n",
    "\n",
    "# we append the goal agent id and info at last\n",
    "agent_type[num_agents-1] = 0 # goal\n",
    "goals[num_agents] = True\n",
    "\n",
    "print(f\"agent_type: {agent_type}\\n\")\n",
    "print(f\"drones set: {drone_set}\\n\")\n",
    "print(f\"drones: {drones}\\n\")\n",
    "print(f\"obstacles: {obstacles}\\n\")\n",
    "print(f\"goals:{goals}\\n\")"
   ]
  },
  {
   "cell_type": "code",
   "execution_count": 28,
   "id": "993503ca",
   "metadata": {
    "ExecuteTime": {
     "end_time": "2023-06-05T03:43:42.503281672Z",
     "start_time": "2023-06-05T03:43:42.467543414Z"
    }
   },
   "outputs": [],
   "source": [
    "o_dict = spawn_obstacles(num_obstacles, agent_type, np.array([5, 3, 5]))\n",
    "d_dict = spawn_drones(num_drones, agent_type)\n",
    "d_blk_centroid = np.array([5, 0, 5]).astype(int_dtype)\n",
    "dis = 2.7\n",
    "g_dict = spawn_goal(dis, agent_type)\n",
    "\n",
    "o_list = get_blocks_id_list(o_dict)\n",
    "d_list = get_blocks_id_list(d_dict)\n",
    "g_list = get_blocks_id_list(g_dict)\n",
    "\n",
    "# print(o_list)\n",
    "# print(len(o_list))\n",
    "# print(d_list)\n",
    "# print(len(d_list))\n",
    "# print(g_list)\n",
    "\n",
    "occ_list = np.concatenate((o_list, d_list, g_list))\n",
    "gx, gy, gz = g_list[0]\n",
    "d_centroid = np.array([5, 0, 5]).astype(int_dtype)\n",
    "d_x, d_y, d_z = d_centroid\n",
    "path = Bresenham3D(gx, gy, gz, d_x, d_y, d_z)\n",
    "# print(d_dict)\n",
    "# mayavi_render_point(d_list)"
   ]
  },
  {
   "cell_type": "code",
   "execution_count": 29,
   "id": "4a95e3f7",
   "metadata": {
    "ExecuteTime": {
     "end_time": "2023-06-05T03:43:45.998046957Z",
     "start_time": "2023-06-05T03:43:45.989910678Z"
    }
   },
   "outputs": [
    {
     "name": "stdout",
     "output_type": "stream",
     "text": [
      "{0: array([ 7.8181906,  7.5887346, 11.758498 ], dtype=float32), 1: array([ 9.639224,  8.64435 , 18.756952], dtype=float32), 2: array([ 7.7834244,  3.7399988, 15.611481 ], dtype=float32), 3: array([ 4.6871   ,  6.731406 , 11.7770405], dtype=float32), 4: array([ 0.7649697,  4.6146865, 17.71198  ], dtype=float32), 6: array([1.7621695, 3.6898296, 7.536472 ], dtype=float32), 9: array([ 2.6311524,  9.852562 , 19.582708 ], dtype=float32), 10: array([ 8.540976,  4.715695, 10.77076 ], dtype=float32), 12: array([ 7.7133102,  9.588949 , 17.684727 ], dtype=float32), 13: array([ 5.7574534,  6.8934593, 13.763162 ], dtype=float32)}\n"
     ]
    }
   ],
   "source": [
    "print(o_dict)"
   ]
  },
  {
   "cell_type": "markdown",
   "source": [
    "#### Checking hard quotas and get the update maps"
   ],
   "metadata": {
    "collapsed": false
   }
  },
  {
   "cell_type": "code",
   "execution_count": 30,
   "id": "5b606f49",
   "metadata": {
    "ExecuteTime": {
     "end_time": "2023-06-05T03:43:57.235842125Z",
     "start_time": "2023-06-05T03:43:57.192618357Z"
    }
   },
   "outputs": [
    {
     "name": "stdout",
     "output_type": "stream",
     "text": [
      "[[14  0  0 11  1  0  0 14  4  0]\n",
      " [11  0 20  0  0  6  0  0  0 20]\n",
      " [20  6  0 20  0  0  0  0 12 20]\n",
      " [ 0 18  0  0  0  0  0 12 17 20]\n",
      " [ 4  1  0 20  0 16 13  0 11  0]\n",
      " [16  0 13  0  0  0 20 20  0  4]\n",
      " [ 0 20 18  0  5  0 10 18 19  0]\n",
      " [ 3  0  0  5  0 20 19  0 14 10]\n",
      " [ 4  0 13 11  3  0  0  0  0  0]\n",
      " [ 0  0  0  0  8  0  0 20  0  0]]\n",
      "occ: checking loc:(0, 4), occ: 17, have: 1\n",
      "occ: checking loc:(1, 3), occ: 7, have: 0\n",
      "occ: checking loc:(2, 9), occ: 19, have: 20\n",
      "occ: checking loc:(4, 6), occ: 11, have: 13\n",
      "occ: checking loc:(5, 6), occ: 13, have: 20\n",
      "occ: checking loc:(7, 3), occ: 15, have: 5\n",
      "occ: checking loc:(7, 7), occ: 11, have: 0\n",
      "occ: checking loc:(7, 9), occ: 17, have: 10\n",
      "occ: checking loc:(8, 4), occ: 10, have: 3\n",
      "occ: checking loc:(9, 8), occ: 18, have: 0\n",
      "occ: checking loc:(5, 0), occ: 5, have: 16\n",
      "occ: checking loc:(5, 3), occ: 5, have: 0\n",
      "path: checking loc:(5, 3), have: 0\n",
      "path: checking loc:(5, 2), have: 13\n",
      "path: checking loc:(5, 1), have: 0\n",
      "path: checking loc:(5, 0), have: 16\n",
      "[[  0   0   0   0   0   0   0   0   0   0]\n",
      " [  0   0   0   0   0   0   0   0   0   0]\n",
      " [  0   0   0   0   0   0   0   0   0  -2]\n",
      " [  0   0   0   0   0   0   0   0   0   0]\n",
      " [  0   0   0   0   0   0  -3   0   0   0]\n",
      " [-12   0  -9   0   0   0  -8   0   0   0]\n",
      " [  0   0   0   0   0   0   0   0   0   0]\n",
      " [  0   0   0   0   0   0   0   0   0   0]\n",
      " [  0   0   0   0   0   0   0   0   0   0]\n",
      " [  0   0   0   0   0   0   0   0   0   0]]\n"
     ]
    }
   ],
   "source": [
    "c_b_m, stats= test_generate_city(10, 20, 5)\n",
    "print(c_b_m)\n",
    "path_clr = True\n",
    "\n",
    "h_q_m = np.zeros((10, 10), dtype=int_dtype)\n",
    "for (x, y, z) in occ_list:\n",
    "    x_ = x\n",
    "    y_ = y\n",
    "    print(f\"occ: checking loc:{x, y}, occ: {z}, have: {c_b_m[x_, y_]}\")\n",
    "    h_q_m[x_, y_] = \\\n",
    "        (z - (c_b_m[x_, y_] + 1)) * (c_b_m[x_, y_] + 1 - z > 0)\n",
    "\n",
    "# path clr for clear line of sight\n",
    "# first check the removed, denoted as negative entries in hard quota\n",
    "# building height < occ height\n",
    "for (x, y, z) in path:\n",
    "    x_ = x\n",
    "    y_ = y\n",
    "    print(f\"path: checking loc:{x, y}, have: {c_b_m[x_, y_]}\")\n",
    "    if path_clr:\n",
    "        h_q_m[x_, y_] = \\\n",
    "            (5 - (c_b_m[x_, y_] + 1)) * (c_b_m[x_, y_] + 1 > 5)\n",
    "    else:\n",
    "        h_q_m[x_, y_] = (5 - (c_b_m[x_, y_])) * (c_b_m[x_, y_] < 5)\n",
    "print(h_q_m)"
   ]
  },
  {
   "cell_type": "code",
   "execution_count": 31,
   "outputs": [
    {
     "name": "stdout",
     "output_type": "stream",
     "text": [
      "(15, 8, 0.5)\n"
     ]
    }
   ],
   "source": [
    "print(stats) # h_mean, h_std, fill_per_sec"
   ],
   "metadata": {
    "collapsed": false,
    "ExecuteTime": {
     "end_time": "2023-06-05T03:44:14.757627627Z",
     "start_time": "2023-06-05T03:44:14.748378010Z"
    }
   }
  },
  {
   "cell_type": "markdown",
   "source": [
    "#### Perform a hard update and get the new map"
   ],
   "metadata": {
    "collapsed": false
   }
  },
  {
   "cell_type": "code",
   "execution_count": 32,
   "id": "ad730882",
   "metadata": {
    "ExecuteTime": {
     "end_time": "2023-06-05T03:44:33.283580884Z",
     "start_time": "2023-06-05T03:44:33.238483480Z"
    }
   },
   "outputs": [
    {
     "name": "stdout",
     "output_type": "stream",
     "text": [
      "[[14  0  0 11  1  0  0 14  4  0]\n",
      " [11  0 20  0  0  6  0  0  0 20]\n",
      " [20  6  0 20  0  0  0  0 12 18]\n",
      " [ 0 18  0  0  0  0  0 12 17 20]\n",
      " [ 4  1  0 20  0 16 10  0 11  0]\n",
      " [ 4  0  4  0  0  0 12 20  0  4]\n",
      " [ 0 20 18  0  5  0 10 18 19  0]\n",
      " [ 3  0  0  5  0 20 19  0 14 10]\n",
      " [ 4  0 13 11  3  0  0  0  0  0]\n",
      " [ 0  0  0  0  8  0  0 20  0  0]]\n"
     ]
    }
   ],
   "source": [
    "c_b_m_hard = c_b_m + h_q_m\n",
    "print(c_b_m_hard)\n",
    "# mlab.barchart(c_b_m_hard, colormap='BuPu')\n",
    "# mlab.vectorbar()\n",
    "# mlab.show()"
   ]
  },
  {
   "cell_type": "markdown",
   "source": [
    "#### Collect coordinates from location dictionary"
   ],
   "metadata": {
    "collapsed": false
   }
  },
  {
   "cell_type": "code",
   "execution_count": null,
   "outputs": [],
   "source": [
    "# test and visualize\n",
    "d_coords = np.array([coord for coord in d_dict.values()])\n",
    "o_coords = np.array([coord for coord in o_dict.values()])\n",
    "g_coords = np.array([coord for coord in g_dict.values()])\n",
    "\n",
    "# c_bool_m_hard = base_map2bool_maps(c_b_m_hard, 10, 20)\n",
    "\n",
    "# mayavi_render_all(c_b_m_hard, (d_coords,o_coords,g_coords))"
   ],
   "metadata": {
    "collapsed": false
   }
  },
  {
   "cell_type": "markdown",
   "source": [
    "#### Check for soft quotas"
   ],
   "metadata": {
    "collapsed": false
   }
  },
  {
   "cell_type": "code",
   "execution_count": 45,
   "outputs": [
    {
     "name": "stdout",
     "output_type": "stream",
     "text": [
      "fps diff: -0.064, h_m diff: -1.632, h_s diff: -0.070\n"
     ]
    }
   ],
   "source": [
    "# check the soft quotas\n",
    "# 10 should be replaced with env_size\n",
    "s_add_map = np.zeros((10, 10),dtype=int_dtype)\n",
    "s_rem_map = np.zeros((10, 10),dtype=int_dtype)\n",
    "\n",
    "# calculate statistics\n",
    "fps_now = np.count_nonzero(c_b_m_hard) / (10 * 10)\n",
    "h_m_now = c_b_m_hard.mean()\n",
    "h_s_now = c_b_m_hard.std()\n",
    "\n",
    "# get the expected statistics\n",
    "h_m_exp, h_s_exp, fps_exp = stats\n",
    "\n",
    "# calculate the difference percentage\n",
    "fps_diff = (fps_now - fps_exp) / fps_now\n",
    "h_m_diff = (h_m_now - h_m_exp) / h_m_now\n",
    "h_s_diff = (h_s_now - h_s_exp) / h_s_now\n",
    "print(\"fps diff: {:.3f}, h_m diff: {:.3f}, h_s diff: {:.3f}\".format(fps_diff, h_m_diff, h_s_diff))"
   ],
   "metadata": {
    "collapsed": false,
    "ExecuteTime": {
     "end_time": "2023-06-05T03:54:09.132342537Z",
     "start_time": "2023-06-05T03:54:09.128191146Z"
    }
   }
  },
  {
   "cell_type": "code",
   "execution_count": 48,
   "outputs": [
    {
     "name": "stdout",
     "output_type": "stream",
     "text": [
      "soft add map: \n",
      " [[ 0  0  0  0 15  0  0  0  0  0]\n",
      " [ 0  0  0  6  0  0  0  0  0  0]\n",
      " [ 0  0  0  0  0  0  0  0  0  0]\n",
      " [ 0  0  0  0  0  0  0  0  0  0]\n",
      " [ 0  0  0  0  0  0  0  0  0  0]\n",
      " [ 0  4  0  4  0  0  0  0  0  0]\n",
      " [ 0  0  0  0  0  0  0  0  0  0]\n",
      " [ 0  0  0  9  0  0  0 10  0  6]\n",
      " [ 0  0  0  0  6  0  0  0  0  0]\n",
      " [ 0  0  0  0  0  0  0  0 17  0]]\n",
      "soft rem map: \n",
      " [[ 0  0  0  0  1  0  0  0  0  0]\n",
      " [ 0  0  0  0  0  0  0  0  0  0]\n",
      " [ 0  0  0  0  0  0  0  0  0 18]\n",
      " [ 0  0  0  0  0  0  0  0  0  0]\n",
      " [ 0  0  0  0  0  0 10  0  0  0]\n",
      " [ 4  0  4  0  0  0 12  0  0  0]\n",
      " [ 0  0  0  0  0  0  0  0  0  0]\n",
      " [ 0  0  0  5  0  0  0  0  0 10]\n",
      " [ 0  0  0  0  3  0  0  0  0  0]\n",
      " [ 0  0  0  0  0  0  0  0  0  0]]\n"
     ]
    }
   ],
   "source": [
    "# calculate the soft quotas\n",
    "# check the occ\n",
    "for (x, y, z) in occ_list:\n",
    "    s_rem_map[x, y] = c_b_m_hard[x, y]\n",
    "    s_add_map[x, y] = z - c_b_m_hard[x, y] - 1\n",
    "\n",
    "# check the path\n",
    "for (x, y, z) in path:\n",
    "    if path_clr: # buildings limited to below height of 5\n",
    "        s_rem_map[x, y] = c_b_m_hard[x, y]\n",
    "        s_add_map[x, y] = z - c_b_m_hard[x, y] - 1\n",
    "    else: # buildings should be taller than height of 5, which is already guaranteed. only below height limits.\n",
    "        s_add_map[x, y] = 18 - c_b_m_hard[x, y]\n",
    "\n",
    "# check the other empty space, Nope!!!!\n",
    "print(\"soft add map: \\n\", s_add_map)\n",
    "print(\"soft rem map: \\n\", s_rem_map)"
   ],
   "metadata": {
    "collapsed": false,
    "ExecuteTime": {
     "end_time": "2023-06-05T04:06:02.754500031Z",
     "start_time": "2023-06-05T04:06:02.742308262Z"
    }
   }
  },
  {
   "cell_type": "code",
   "execution_count": 49,
   "outputs": [
    {
     "name": "stdout",
     "output_type": "stream",
     "text": [
      "[[14  0  0 11  1  0  0 14  4  0]\n",
      " [11  0 20  0  0  6  0  0  0 20]\n",
      " [20  6  0 20  0  0  0  0 12 18]\n",
      " [ 0 18  0  0  0  0  0 12 17 20]\n",
      " [ 4  1  0 20  0 16 10  0 11  0]\n",
      " [ 4  0  4  0  0  0 12 20  0  4]\n",
      " [ 0 20 18  0  5  0 10 18 19  0]\n",
      " [ 3  0  0  5  0 20 19  0 14 10]\n",
      " [ 4  0 13 11  3  0  0  0  0  0]\n",
      " [ 0  0  0  0  8  0  0 20  0  0]]\n"
     ]
    }
   ],
   "source": [
    "print(c_b_m_hard)"
   ],
   "metadata": {
    "collapsed": false,
    "ExecuteTime": {
     "end_time": "2023-06-05T04:06:25.087862469Z",
     "start_time": "2023-06-05T04:06:25.081486349Z"
    }
   }
  },
  {
   "cell_type": "code",
   "execution_count": 50,
   "outputs": [
    {
     "name": "stdout",
     "output_type": "stream",
     "text": [
      "[[20 20 20 20 16 20 20 20 20 20]\n",
      " [20 20 20  6 20 20 20 20 20 20]\n",
      " [20 20 20 20 20 20 20 20 20 18]\n",
      " [20 20 20 20 20 20 20 20 20 20]\n",
      " [20 20 20 20 20 20 10 20 20 20]\n",
      " [ 4  4  4  4 20 20 12 20 20 20]\n",
      " [20 20 20 20 20 20 20 20 20 20]\n",
      " [20 20 20 14 20 20 20 10 20 16]\n",
      " [20 20 20 20  9 20 20 20 20 20]\n",
      " [20 20 20 20 20 20 20 20 17 20]]\n"
     ]
    }
   ],
   "source": [
    "# thinking in height limit ways\n",
    "# checking and updating can be done without laboriously accessing arrays entry by entry\n",
    "new_ceilings = np.full((10, 10), 20, dtype=int_dtype) # maximum attainable heights\n",
    "\n",
    "# update them!\n",
    "# put the occ list inside\n",
    "for (x, y, z) in occ_list:\n",
    "    new_ceilings[x, y] = z - 1\n",
    "\n",
    "# depending on path_clr:\n",
    "# if path should be clear, then add path blocks as well\n",
    "# else, put in negative values indicating current difference\n",
    "if path_clr:\n",
    "    for (x, y, z) in path:\n",
    "        new_ceilings[x, y] = z - 1\n",
    "else:\n",
    "    for (x, y, _) in path:\n",
    "        c_b_m_hard[x, y] = 5 # just set the height first!\n",
    "\n",
    "print(new_ceilings)\n"
   ],
   "metadata": {
    "collapsed": false,
    "ExecuteTime": {
     "end_time": "2023-06-05T04:21:13.015333615Z",
     "start_time": "2023-06-05T04:21:13.010521768Z"
    }
   }
  },
  {
   "cell_type": "code",
   "execution_count": 52,
   "outputs": [
    {
     "name": "stdout",
     "output_type": "stream",
     "text": [
      "[[14  0  0 11  1  0  0 14  4  0]\n",
      " [11  0 20  0  0  6  0  0  0 20]\n",
      " [20  6  0 20  0  0  0  0 12 20]\n",
      " [ 0 18  0  0  0  0  0 12 17 20]\n",
      " [ 4  1  0 20  0 16 13  0 11  0]\n",
      " [16  0 13  0  0  0 20 20  0  4]\n",
      " [ 0 20 18  0  5  0 10 18 19  0]\n",
      " [ 3  0  0  5  0 20 19  0 14 10]\n",
      " [ 4  0 13 11  3  0  0  0  0  0]\n",
      " [ 0  0  0  0  8  0  0 20  0  0]]\n"
     ]
    }
   ],
   "source": [
    "print(c_b_m)"
   ],
   "metadata": {
    "collapsed": false,
    "ExecuteTime": {
     "end_time": "2023-06-05T04:24:35.309879833Z",
     "start_time": "2023-06-05T04:24:35.305582725Z"
    }
   }
  },
  {
   "cell_type": "code",
   "execution_count": 57,
   "outputs": [],
   "source": [
    "# perform the hard update\n",
    "c_b_m_1 = np.where(c_b_m < new_ceilings, c_b_m, new_ceilings)"
   ],
   "metadata": {
    "collapsed": false,
    "ExecuteTime": {
     "end_time": "2023-06-05T04:51:19.019399850Z",
     "start_time": "2023-06-05T04:51:18.975888568Z"
    }
   }
  },
  {
   "cell_type": "code",
   "execution_count": 58,
   "outputs": [
    {
     "data": {
      "text/plain": "array([[ 6, 20, 20,  9, 15, 20, 20,  6, 16, 20],\n       [ 9, 20,  0,  6, 20, 14, 20, 20, 20,  0],\n       [ 0, 14, 20,  0, 20, 20, 20, 20,  8,  0],\n       [20,  2, 20, 20, 20, 20, 20,  8,  3,  0],\n       [16, 19, 20,  0, 20,  4,  0, 20,  9, 20],\n       [ 0,  4,  0,  4, 20, 20,  0,  0, 20, 16],\n       [20,  0,  2, 20, 15, 20, 10,  2,  1, 20],\n       [17, 20, 20,  9, 20,  0,  1, 10,  6,  6],\n       [16, 20,  7,  9,  6, 20, 20, 20, 20, 20],\n       [20, 20, 20, 20, 12, 20, 20,  0, 17, 20]])"
     },
     "execution_count": 58,
     "metadata": {},
     "output_type": "execute_result"
    }
   ],
   "source": [
    "new_ceilings - c_b_m_1 # possible room for growth, i.e. the soft add maps"
   ],
   "metadata": {
    "collapsed": false,
    "ExecuteTime": {
     "end_time": "2023-06-05T04:51:20.644013237Z",
     "start_time": "2023-06-05T04:51:20.636731254Z"
    }
   }
  },
  {
   "cell_type": "code",
   "execution_count": null,
   "outputs": [],
   "source": [],
   "metadata": {
    "collapsed": false
   }
  }
 ],
 "metadata": {
  "kernelspec": {
   "display_name": "Python 3 (ipykernel)",
   "language": "python",
   "name": "python3"
  },
  "language_info": {
   "codemirror_mode": {
    "name": "ipython",
    "version": 3
   },
   "file_extension": ".py",
   "mimetype": "text/x-python",
   "name": "python",
   "nbconvert_exporter": "python",
   "pygments_lexer": "ipython3",
   "version": "3.7.12"
  }
 },
 "nbformat": 4,
 "nbformat_minor": 5
}
