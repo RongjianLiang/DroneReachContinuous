{
 "cells": [
  {
   "cell_type": "code",
   "execution_count": 2,
   "id": "9e5156c2",
   "metadata": {
    "ExecuteTime": {
     "end_time": "2023-06-04T07:55:50.969644957Z",
     "start_time": "2023-06-04T07:55:50.074409997Z"
    }
   },
   "outputs": [],
   "source": [
    "import copy\n",
    "import heapq\n",
    "\n",
    "import numpy as np\n",
    "from gym import spaces\n",
    "from gym.utils import seeding\n",
    "\n",
    "import math\n",
    "import matplotlib\n",
    "import random\n",
    "import matplotlib.pyplot as plt\n",
    "import matplotlib as mpl\n",
    "import matplotlib.cm as cm\n",
    "from matplotlib.colors import ListedColormap, LinearSegmentedColormap\n",
    "\n",
    "from warp_drive.utils.constants import Constants\n",
    "from warp_drive.utils.data_feed import DataFeed\n",
    "from warp_drive.utils.gpu_environment_context import CUDAEnvironmentContext"
   ]
  },
  {
   "cell_type": "code",
   "execution_count": 3,
   "id": "a695e3f5",
   "metadata": {
    "ExecuteTime": {
     "end_time": "2023-06-04T07:55:54.614093278Z",
     "start_time": "2023-06-04T07:55:54.561300381Z"
    }
   },
   "outputs": [],
   "source": [
    "float_dtype = np.float32\n",
    "int_dtype = np.int32\n"
   ]
  },
  {
   "cell_type": "code",
   "execution_count": 28,
   "id": "0891e9a6",
   "metadata": {},
   "outputs": [],
   "source": [
    "def base_map2bool_maps(city_base_map, size, height):\n",
    "    city_maps = np.zeros((size, size, height), dtype=int)\n",
    "\n",
    "    for i in range(height):\n",
    "        city_maps[:, :, i] = (city_base_map >= 1)\n",
    "        city_base_map -= 1\n",
    "    return city_maps"
   ]
  },
  {
   "cell_type": "markdown",
   "id": "78b96a6e",
   "metadata": {},
   "source": [
    "#### Global state dictionary testing"
   ]
  },
  {
   "cell_type": "code",
   "execution_count": 2,
   "id": "ffd62fd2",
   "metadata": {
    "ExecuteTime": {
     "end_time": "2023-06-03T00:51:04.522654058Z",
     "start_time": "2023-06-03T00:51:04.481411796Z"
    }
   },
   "outputs": [
    {
     "name": "stdout",
     "output_type": "stream",
     "text": [
      "10\n"
     ]
    }
   ],
   "source": [
    "global_state = {}\n",
    "# mimic: episode length = 10, num_agents = 10\n",
    "global_state[\"key\"] = np.zeros((11, 10))\n",
    "print(global_state[\"key\"].shape[1])"
   ]
  },
  {
   "cell_type": "code",
   "execution_count": 7,
   "id": "33778c24",
   "metadata": {
    "ExecuteTime": {
     "end_time": "2023-06-03T00:53:24.278340497Z",
     "start_time": "2023-06-03T00:53:24.231399241Z"
    }
   },
   "outputs": [],
   "source": [
    "value = np.zeros((10,))\n",
    "assert value.shape[0] == global_state[\"key\"].shape[1]\n",
    "# global_state[\"key\"][0] = value"
   ]
  },
  {
   "cell_type": "code",
   "execution_count": 8,
   "id": "3adc0b76",
   "metadata": {
    "ExecuteTime": {
     "end_time": "2023-06-03T00:53:27.157170564Z",
     "start_time": "2023-06-03T00:53:27.148780001Z"
    }
   },
   "outputs": [
    {
     "data": {
      "text/plain": [
       "(10,)"
      ]
     },
     "execution_count": 8,
     "metadata": {},
     "output_type": "execute_result"
    }
   ],
   "source": [
    "global_state[\"key\"][0].shape"
   ]
  },
  {
   "cell_type": "code",
   "execution_count": 9,
   "id": "6c57e7da",
   "metadata": {
    "ExecuteTime": {
     "end_time": "2023-06-03T00:53:43.594899775Z",
     "start_time": "2023-06-03T00:53:43.584309321Z"
    }
   },
   "outputs": [],
   "source": [
    "global_state[\"key\"][0] = value"
   ]
  },
  {
   "cell_type": "code",
   "execution_count": 13,
   "id": "0b63a352",
   "metadata": {
    "ExecuteTime": {
     "end_time": "2023-06-03T00:56:49.495932156Z",
     "start_time": "2023-06-03T00:56:49.490926333Z"
    }
   },
   "outputs": [
    {
     "name": "stdout",
     "output_type": "stream",
     "text": [
      "[0. 0. 0. 0. 0. 0. 0. 0. 0. 0.]\n"
     ]
    }
   ],
   "source": [
    "print(global_state[\"key\"][10])"
   ]
  },
  {
   "cell_type": "code",
   "execution_count": 14,
   "id": "d4011510",
   "metadata": {
    "ExecuteTime": {
     "end_time": "2023-06-03T01:24:38.762627780Z",
     "start_time": "2023-06-03T01:24:38.723807952Z"
    }
   },
   "outputs": [
    {
     "name": "stdout",
     "output_type": "stream",
     "text": [
      "[-1.         -0.77777778 -0.55555556 -0.33333333 -0.11111111  0.11111111\n",
      "  0.33333333  0.55555556  0.77777778  1.        ]\n",
      "[ 0.         -1.         -0.77777778 -0.55555556 -0.33333333 -0.11111111\n",
      "  0.11111111  0.33333333  0.55555556  0.77777778  1.        ]\n"
     ]
    }
   ],
   "source": [
    "min_acc = -1\n",
    "max_acc = 1\n",
    "num_acc = 10\n",
    "acc_actions = np.linspace(min_acc, max_acc, num_acc)\n",
    "print(acc_actions)\n",
    "acc_actions = np.insert(acc_actions, 0, 0)\n",
    "print(acc_actions)"
   ]
  },
  {
   "cell_type": "markdown",
   "id": "b9f6789a",
   "metadata": {},
   "source": [
    "### Understanding action spaces"
   ]
  },
  {
   "cell_type": "code",
   "execution_count": 19,
   "id": "61dd8e31",
   "metadata": {
    "ExecuteTime": {
     "end_time": "2023-06-03T01:45:57.559091470Z",
     "start_time": "2023-06-03T01:45:57.520226749Z"
    }
   },
   "outputs": [
    {
     "name": "stdout",
     "output_type": "stream",
     "text": [
      "(6, 3)\n",
      "(7, 3)\n"
     ]
    }
   ],
   "source": [
    "dir_actions = np.array(\n",
    "    [[0, 0, 1], [0, 0, -1],\n",
    "     [0, 1, 0], [0, -1, 0],\n",
    "     [1, 0, 0], [-1, 0, 0]]\n",
    ").astype(int)\n",
    "print(dir_actions.shape)\n",
    "dir_actions = np.insert(dir_actions, 0, [0, 0, 0], axis=0)\n",
    "print(dir_actions.shape)"
   ]
  },
  {
   "cell_type": "code",
   "execution_count": 22,
   "id": "f0a595df",
   "metadata": {
    "ExecuteTime": {
     "end_time": "2023-06-03T01:52:09.003251634Z",
     "start_time": "2023-06-03T01:52:08.999426805Z"
    }
   },
   "outputs": [
    {
     "name": "stdout",
     "output_type": "stream",
     "text": [
      "(11,)\n",
      "(7, 3)\n"
     ]
    }
   ],
   "source": [
    "# from gym import spaces\n",
    "# print(acc_actions.shape)\n",
    "# print(dir_actions.shape)\n",
    "# num_agents = 10\n",
    "#\n",
    "# obs_space = {\n",
    "#     agent_id: spaces.MultiDiscrete(\n",
    "#         (acc_actions.shape[0], dir_actions.shape[0])\n",
    "#     )\n",
    "#     for agent_id in range(num_agents)\n",
    "# }"
   ]
  },
  {
   "cell_type": "code",
   "execution_count": 23,
   "id": "ad45fed1",
   "metadata": {
    "ExecuteTime": {
     "end_time": "2023-06-03T01:52:11.316004755Z",
     "start_time": "2023-06-03T01:52:11.312658371Z"
    }
   },
   "outputs": [
    {
     "data": {
      "text/plain": [
       "{0: MultiDiscrete([11  7]),\n",
       " 1: MultiDiscrete([11  7]),\n",
       " 2: MultiDiscrete([11  7]),\n",
       " 3: MultiDiscrete([11  7]),\n",
       " 4: MultiDiscrete([11  7]),\n",
       " 5: MultiDiscrete([11  7]),\n",
       " 6: MultiDiscrete([11  7]),\n",
       " 7: MultiDiscrete([11  7]),\n",
       " 8: MultiDiscrete([11  7]),\n",
       " 9: MultiDiscrete([11  7])}"
      ]
     },
     "execution_count": 23,
     "metadata": {},
     "output_type": "execute_result"
    }
   ],
   "source": [
    "# obs_space"
   ]
  },
  {
   "cell_type": "markdown",
   "id": "70331f05",
   "metadata": {},
   "source": [
    "### Understanding agents' rewards array"
   ]
  },
  {
   "cell_type": "code",
   "execution_count": null,
   "outputs": [],
   "source": [
    "# agent_type = {}\n",
    "# num_agents = 10\n",
    "# num_taggers = 5\n",
    "# num_runners = 5\n",
    "# taggers_set = np.random.choice(\n",
    "#     np.arange(num_agents), num_taggers, replace=False\n",
    "# )\n",
    "# taggers = {}\n",
    "# runners = {}\n",
    "# for agent_id in range(num_agents):\n",
    "#     if agent_id in set(taggers_set):\n",
    "#         agent_type[agent_id] = 1 # taggers\n",
    "#         taggers[agent_id] = True\n",
    "#     else:\n",
    "#         agent_type[agent_id] = 0 # runners\n",
    "#         runners[agent_id] = True\n",
    "# print(f\"taggers_set: {taggers_set}\\n\")\n",
    "# print(f\"taggers: {taggers}\")\n",
    "# print(f\"runners: {runners}\")"
   ],
   "metadata": {
    "collapsed": false
   }
  },
  {
   "cell_type": "code",
   "execution_count": 26,
   "id": "56164bf0",
   "metadata": {
    "ExecuteTime": {
     "end_time": "2023-06-03T02:40:38.622523391Z",
     "start_time": "2023-06-03T02:40:38.613160287Z"
    }
   },
   "outputs": [
    {
     "name": "stdout",
     "output_type": "stream",
     "text": [
      "agent type: {0: 0, 1: 0, 2: 1, 3: 0, 4: 0, 5: 0, 6: 1, 7: 1, 8: 1, 9: 1}\n"
     ]
    }
   ],
   "source": [
    "# print(f\"agent type: {agent_type}\")"
   ]
  },
  {
   "cell_type": "code",
   "execution_count": 25,
   "id": "48b1f93b",
   "metadata": {
    "ExecuteTime": {
     "end_time": "2023-06-03T02:40:07.942562884Z",
     "start_time": "2023-06-03T02:40:07.899133342Z"
    }
   },
   "outputs": [
    {
     "name": "stdout",
     "output_type": "stream",
     "text": [
      "step rewards: [1.0, 1.0, -1.0, 1.0, 1.0, 1.0, -1.0, -1.0, -1.0, -1.0]\n"
     ]
    }
   ],
   "source": [
    "# step_penalty_for_taggers = -1.0\n",
    "# step_reward_for_runner = 1.0\n",
    "#\n",
    "# step_rewards = [\n",
    "#     agent_type[agent_id] * step_penalty_for_taggers\n",
    "#     + (1 - agent_type[agent_id]) * step_reward_for_runner\n",
    "#     for agent_id in range(num_agents)\n",
    "# ]\n",
    "#\n",
    "# print(f\"step rewards: {step_rewards}\")"
   ]
  },
  {
   "cell_type": "markdown",
   "id": "f2e955f9",
   "metadata": {},
   "source": [
    "## 1. Setting up our own agent type dictionary"
   ]
  },
  {
   "cell_type": "code",
   "execution_count": 108,
   "id": "bfd13e59",
   "metadata": {
    "ExecuteTime": {
     "end_time": "2023-06-04T02:30:23.301190090Z",
     "start_time": "2023-06-04T02:30:23.293832864Z"
    }
   },
   "outputs": [],
   "source": [
    "num_drones = 10\n",
    "num_goals = 1\n",
    "num_obstacles = 10\n",
    "num_agents = 21\n",
    "\n",
    "drone_set = np.random.choice(\n",
    "    np.arange(num_agents - 1), num_drones, replace=False\n",
    ")"
   ]
  },
  {
   "cell_type": "markdown",
   "id": "5014a1c4",
   "metadata": {},
   "source": [
    "Note that since we always have **1** goal only, we would first randomly choice the index\n",
    "for drones, and the rest of `num_agent -1` would naturally form the obstacle indices. We would not choose the indices for goal."
   ]
  },
  {
   "cell_type": "code",
   "execution_count": 109,
   "id": "3f0df282",
   "metadata": {
    "ExecuteTime": {
     "end_time": "2023-06-04T02:30:29.077965353Z",
     "start_time": "2023-06-04T02:30:29.071141728Z"
    }
   },
   "outputs": [
    {
     "name": "stdout",
     "output_type": "stream",
     "text": [
      "agent_type: {0: 0.5, 1: 0.5, 2: 1, 3: 1, 4: 0.5, 5: 0.5, 6: 1, 7: 0.5, 8: 1, 9: 1, 10: 0.5, 11: 0.5, 12: 1, 13: 1, 14: 0.5, 15: 1, 16: 0.5, 17: 1, 18: 0.5, 19: 1, 20: 0}\n",
      "\n",
      "drones set: [ 3  9 19  2 17  6  8 12 15 13]\n",
      "\n",
      "drones: {2: True, 3: True, 6: True, 8: True, 9: True, 12: True, 13: True, 15: True, 17: True, 19: True}\n",
      "\n",
      "obstacles: {0: True, 1: True, 4: True, 5: True, 7: True, 10: True, 11: True, 14: True, 16: True, 18: True}\n",
      "\n",
      "goals:{21: True}\n",
      "\n"
     ]
    }
   ],
   "source": [
    "agent_type = {}\n",
    "drones = {}\n",
    "obstacles = {}\n",
    "goals = {}\n",
    "# similarly, only care about the drones and obstacles\n",
    "for agent_id in range(num_agents - 1):\n",
    "    if agent_id in set(drone_set):\n",
    "        agent_type[agent_id] = 1 # drones\n",
    "        drones[agent_id] = True\n",
    "    else:\n",
    "        agent_type[agent_id] = 1 / 2 # obstacles\n",
    "        obstacles[agent_id] = True\n",
    "\n",
    "# we append the goal agent id and info at last\n",
    "agent_type[num_agents-1] = 0 # goal\n",
    "goals[num_agents] = True\n",
    "\n",
    "print(f\"agent_type: {agent_type}\\n\")\n",
    "print(f\"drones set: {drone_set}\\n\")\n",
    "print(f\"drones: {drones}\\n\")\n",
    "print(f\"obstacles: {obstacles}\\n\")\n",
    "print(f\"goals:{goals}\\n\")"
   ]
  },
  {
   "cell_type": "markdown",
   "id": "b2bc0e57",
   "metadata": {},
   "source": [
    "## 2. Creating unified step rewards array for all agents\n",
    "There would be only step rewards/penalties for drones and goal, not obstacles.\n",
    "\n",
    "The example code (`tag_continuous`) uses the key values associated with each agent's type to cleverly calculate corresponding step awards, in a single run of list comprehension.\n",
    "\n",
    "By utilizing the fact that `step_penalty_for_drone` is always the negative of `step_reward_for_goal`, we can have the reward value for obstacles being **0** by cleverly assigning them **0.5** key values in the `agent_type` dictionary.\n",
    "\n",
    "And we need to assert this reward property as well."
   ]
  },
  {
   "cell_type": "code",
   "execution_count": 110,
   "id": "f02767c4",
   "metadata": {
    "ExecuteTime": {
     "end_time": "2023-06-04T02:30:35.624913097Z",
     "start_time": "2023-06-04T02:30:35.580937845Z"
    }
   },
   "outputs": [
    {
     "name": "stdout",
     "output_type": "stream",
     "text": [
      "step_reward list: [0.0, 0.0, -1.0, -1.0, 0.0, 0.0, -1.0, 0.0, -1.0, -1.0, 0.0, 0.0, -1.0, -1.0, 0.0, -1.0, 0.0, -1.0, 0.0, -1.0, 1.0]\n",
      "\n"
     ]
    }
   ],
   "source": [
    "step_penalty_for_drone = - 1.0\n",
    "step_reward_for_goal = 1.0\n",
    "step_rewards = [\n",
    "    agent_type[agent_id] * step_penalty_for_drone\n",
    "    + (1 - agent_type[agent_id]) * step_reward_for_goal\n",
    "    for agent_id in range(num_agents)\n",
    "]\n",
    "\n",
    "print(f\"step_reward list: {step_rewards}\\n\")"
   ]
  },
  {
   "cell_type": "markdown",
   "id": "c9633c23",
   "metadata": {},
   "source": [
    "## 3. Spawning drones, obstacles and goal given city base map\n",
    "\n",
    "Here given a base map, which is usually a 10 by 10 numpy array with each entry specifying the height of buildings at that coordinate, we are required to get the coordinates for initializing drones, obstacles, and goal."
   ]
  },
  {
   "cell_type": "markdown",
   "id": "b174d2c9",
   "metadata": {},
   "source": [
    "\n",
    "### Requirements\n",
    "- We can easily determine the **empty** position from the base map.\n",
    "- However, we would like to have more control in spawning the drones and goal.\n",
    "    - we should be able to determine the relationship between goal and drones at initial state. Such feature would help us configure our environment for different level of difficulties. The relationship includes:\n",
    "        - whether the drones can detect goal from the start.\n",
    "        - the distance between drones and goal.\n",
    "    - the drones would be spawned in a formation, which depends on the number of drones specified, instead of spreading across the entire map."
   ]
  },
  {
   "cell_type": "markdown",
   "id": "fe2125e1",
   "metadata": {},
   "source": [
    "\n",
    "### ...An intuitive but difficult approach...\n",
    "\n",
    "We propose the following procedures for initializing the `city`, and spawning `agents`:\n",
    "1. Generate a `city_base_map` with provided `size` and `difficulty`, or `hint` if provided.\n",
    "2. Try to spawn the `drones` formation inside the map\n",
    "    1. If failed, go back to **step 1**, re-generate/modify the map with `hints` to the generator.\n",
    "    2. Else, proceed to next step.\n",
    "3. Try to spawn the `goal` with given `difficulty` or other requirements.\n",
    "    1. If failed, go back to **step 1**, re-generate/modify the map with `hints` to the generator.\n",
    "    2. Else, proceed to next step.\n",
    "4. Try to spawn the `obstacles` with given `num_obstacles` in other empty space.\n",
    "    1. If failed, go back to **step 1**, re-generate/modify the map with `hints` to the generator.\n",
    "    2. Else, proceed to next step.\n",
    "5. Return the spawned location of `drones`, `goal`, `obstacles`, and corresponding `city_base_map`.\n",
    "\n",
    "However, due to the randomness of `city generator`, there is no guarantee that a satisfiable map would be generated, which is the last thing we would like to see. Therefore, we would like the `city generator` modifying an unsatisfiable map to satisfiable, or relax some of the randomness to have greater chance of generating satisfiable map, before re-generating a completely random new one which might fail the trials.\n",
    "\n",
    "To facilitate this, `hints` would be provided to the generator....*(but really, how to put down this ambiguous `hints` into mathematics form, then implement them in codes?)*"
   ]
  },
  {
   "cell_type": "markdown",
   "id": "97060d34",
   "metadata": {},
   "source": [
    "\n",
    "### ...A not so intuitive approach but solve the problem with minimal workload\n",
    "#### *....why not we spawn the drones, goal, and obstacles before generating buildings?*\n",
    "\n",
    "We would modify our `city generator` to accept following arguments:\n",
    "1. `num_drones`: number of drones need to spawn, and pack within a formation.\n",
    "2. `obs_range`: the range of observation for drones.\n",
    "3. `if_within_obs`: whether to spawn the goal within drones' formation's observation range.\n",
    "4. `if_directly_obs`: whether the `goal` is directly observable to the `drone`. If `True`, there should not be buildings or obstacles in the line of sight. Else, the line of sight is interrupted.\n",
    "5. `distance`: the distance between centroid of drones' formation and goal. This would be a multiplier on top of environment size, thus should fall between 0 and 1.\n",
    "6. `num_obstacles`: the number of obstacles to spawn randomly.7\n",
    "7. `difficulty`: the difficulty index related to cluster-ness of the environment.\n",
    "\n",
    "The new, with spawning-awareness, `city generator` would follow this procedure instead:\n",
    "1. Designate a cube/space for the `drones` formation. Calculate the centroid coordinate and drones' coordinates.\n",
    "2. Designate a cube for `goal`. Calculate goal coordinate.\n",
    "3. Designate several cube for `obstacles`. Calculate their coordinates.\n",
    "4. Collect the above `designated cube`s.\n",
    "    - `designated cube` would invalidate some building placements. `cubes` placed above the ground would imply *no buildings* in this block or *building in this block lower than* `cube`.\n",
    "    - all `designated cube` should be placed above a minimum height from ground. This is to avoid the conflict with `fill_per_sec` requirement.\n",
    "    - the `drones` formation would always be spawned from the same centroid locations, and the `goal` location would always be in front of the `drones`.\n",
    "5. Generate the city without touching the `designated cells`, and conform to `if_directly_obs` requirement. Procedures are as:\n",
    "    - Generate the city without considering the `designated cells`.\n",
    "    - Calculate the updated `fill_per_sec`, and `mean_height`, `std_height` parameters after first generation.\n",
    "    - Compared these 3 parameters with prescribed inputs.\n",
    "    - Then first check `designated cells` of `drones` and `goal`. Randomly select either to remove the entire building or lower its height based on RNG.\n",
    "    - Check if buildings conform to `is_directly_obs` requirement (i.e., check the *line of sight* between centroid of `drones` formation and `goal`).\n",
    "        - If there are buildings blocking line of sight,\n",
    "\n",
    "\n"
   ]
  },
  {
   "cell_type": "code",
   "execution_count": 17,
   "outputs": [],
   "source": [
    "import copy\n",
    "import heapq\n",
    "\n",
    "import numpy as np\n",
    "from gym import spaces\n",
    "from gym.utils import seeding\n",
    "\n",
    "import math\n",
    "import matplotlib\n",
    "import random\n",
    "import matplotlib.pyplot as plt\n",
    "import matplotlib as mpl\n",
    "import matplotlib.cm as cm\n",
    "from matplotlib.colors import ListedColormap, LinearSegmentedColormap\n",
    "\n",
    "from warp_drive.utils.constants import Constants\n",
    "from warp_drive.utils.data_feed import DataFeed\n",
    "from warp_drive.utils.gpu_environment_context import CUDAEnvironmentContext\n",
    "float_dtype = np.float32\n",
    "int_dtype = np.int32"
   ],
   "metadata": {
    "collapsed": false,
    "ExecuteTime": {
     "end_time": "2023-06-04T12:07:02.342460451Z",
     "start_time": "2023-06-04T12:07:02.286379529Z"
    }
   }
  },
  {
   "cell_type": "code",
   "execution_count": 5,
   "outputs": [],
   "source": [
    "def Bresenham3D(x1, y1, z1, x2, y2, z2):\n",
    "    ListOfPoints = [[x1, y1, z1]]\n",
    "    dx = abs(x2 - x1)\n",
    "    dy = abs(y2 - y1)\n",
    "    dz = abs(z2 - z1)\n",
    "    if x2 > x1:\n",
    "        xs = 1\n",
    "    else:\n",
    "        xs = -1\n",
    "    if y2 > y1:\n",
    "        ys = 1\n",
    "    else:\n",
    "        ys = -1\n",
    "    if z2 > z1:\n",
    "        zs = 1\n",
    "    else:\n",
    "        zs = -1\n",
    "\n",
    "    # Driving axis is X-axis\"\n",
    "    if dx >= dy and dx >= dz:\n",
    "        p1 = 2 * dy - dx\n",
    "        p2 = 2 * dz - dx\n",
    "        while x1 != x2:\n",
    "            x1 += xs\n",
    "            if p1 >= 0:\n",
    "                y1 += ys\n",
    "                p1 -= 2 * dx\n",
    "            if p2 >= 0:\n",
    "                z1 += zs\n",
    "                p2 -= 2 * dx\n",
    "            p1 += 2 * dy\n",
    "            p2 += 2 * dz\n",
    "            ListOfPoints.append([x1, y1, z1])\n",
    "\n",
    "    # Driving axis is Y-axis\"\n",
    "    elif dy >= dx and dy >= dz:\n",
    "        p1 = 2 * dx - dy\n",
    "        p2 = 2 * dz - dy\n",
    "        while y1 != y2:\n",
    "            y1 += ys\n",
    "            if p1 >= 0:\n",
    "                x1 += xs\n",
    "                p1 -= 2 * dy\n",
    "            if p2 >= 0:\n",
    "                z1 += zs\n",
    "                p2 -= 2 * dy\n",
    "            p1 += 2 * dx\n",
    "            p2 += 2 * dz\n",
    "            ListOfPoints.append([x1, y1, z1])\n",
    "\n",
    "    # Driving axis is Z-axis\"\n",
    "    else:\n",
    "        p1 = 2 * dy - dz\n",
    "        p2 = 2 * dx - dz\n",
    "        while z1 != z2:\n",
    "            z1 += zs\n",
    "            if p1 >= 0:\n",
    "                y1 += ys\n",
    "                p1 -= 2 * dz\n",
    "            if p2 >= 0:\n",
    "                x1 += xs\n",
    "                p2 -= 2 * dz\n",
    "            p1 += 2 * dy\n",
    "            p2 += 2 * dx\n",
    "            ListOfPoints.append([x1, y1, z1])\n",
    "    return ListOfPoints"
   ],
   "metadata": {
    "collapsed": false,
    "ExecuteTime": {
     "end_time": "2023-06-04T12:06:07.069508926Z",
     "start_time": "2023-06-04T12:06:07.045610844Z"
    }
   }
  },
  {
   "cell_type": "code",
   "execution_count": 6,
   "id": "15af0bdb",
   "metadata": {
    "ExecuteTime": {
     "end_time": "2023-06-04T12:06:08.274487157Z",
     "start_time": "2023-06-04T12:06:08.239964097Z"
    }
   },
   "outputs": [],
   "source": [
    "def spawn_and_generate_city(\n",
    "        size,\n",
    "        max_height,\n",
    "        difficulty_level,\n",
    "        obs_range,\n",
    "        is_within_obs,\n",
    "        is_directly_obs,\n",
    "        distance,\n",
    "        agent_type,\n",
    "        num_drones,\n",
    "        num_obstacles,\n",
    "        num_goals=1,\n",
    "        sec_num=2):\n",
    "    \n",
    "    city_base_map = np.zeros((size, size), dtype=int)\n",
    "    env_size = 10\n",
    "    # the interpolation of mean height and std height\n",
    "    mean_height_list = np.linspace(0.3, 0.9, 10)\n",
    "    std_height_list = np.geomspace(2, 0.4, 10)\n",
    "    \n",
    "    # randomly sample pair from above\n",
    "    idx = random.randint(0, len(mean_height_list)-1)\n",
    "    mean_height = mean_height_list[idx]\n",
    "    std_height = std_height_list[idx]\n",
    "    \n",
    "    # based on difficulty level, select the cluster-ness\n",
    "    fill_per_sec = difficulty_level / 10\n",
    "    \n",
    "    h_mean = int(max_height * mean_height)\n",
    "    h_std = int(h_mean * std_height)\n",
    "    cell_size = int(size / sec_num)\n",
    "    num = int(fill_per_sec * cell_size**2)\n",
    "\n",
    "    a_min = np.zeros(num, dtype=int)\n",
    "    a_max = np.full(num, max_height, dtype=int)\n",
    "\n",
    "    # spawn the drones formation around the centroid of block (5, 0, 5), using default\n",
    "    drones_loc_dict = spawn_drones(num_drones, agent_type)\n",
    "\n",
    "    # spawn the goal location, using default block centroid of (5, 0, 5)\n",
    "    # the distance here is a floating point value.\n",
    "    distance = distance * env_size\n",
    "    goal_loc_dict = spawn_goal(distance, agent_type)\n",
    "    goal_loc = goal_loc_dict[num_agents - 1]\n",
    "\n",
    "    obstacles_loc_dict = spawn_obstacles(num_obstacles, agent_type, goal_loc)\n",
    "\n",
    "    # convert the float coordinates into block ids\n",
    "    drones_blocks_id = get_blocks_id_list(drones_loc_dict)\n",
    "    obstacles_blocks_id = get_blocks_id_list(obstacles_loc_dict)\n",
    "    goal_blocks_id = get_blocks_id_list(goal_loc_dict)\n",
    "\n",
    "    # get the blocks that in the line of sight between drones and goal.\n",
    "    # make use of Bresenham3D algorithm, and we only care about the drone centroid.\n",
    "    # drone centroid should be a class attribute\n",
    "    drones_centroid = np.array([5, 0, 5]).astype(int_dtype)\n",
    "    gx, gy, gz = goal_loc[0]\n",
    "    d_x, d_y, d_z = drones_centroid\n",
    "    blk_sight_list = Bresenham3D(gx, gy, gz, d_x, d_y, d_z)\n",
    "\n",
    "    occupied_blocks_list = np.concatenate(\n",
    "        drones_blocks_id, obstacles_blocks_id, goal_blocks_id\n",
    "    )\n",
    "\n",
    "    # first just generate\n",
    "    for i in range(sec_num):\n",
    "        for j in range(sec_num):\n",
    "            building_height = np.clip(np.random.normal(h_mean, h_std, num), a_min, a_max)\n",
    "            height_list = np.concatenate((building_height, np.zeros(cell_size*cell_size - num)))\n",
    "            np.random.shuffle(height_list)\n",
    "            block_height = np.reshape(height_list, (cell_size, cell_size))\n",
    "            city_base_map[i*cell_size: (i+1)*cell_size, j*cell_size:(j+1)*cell_size] = block_height\n",
    "            \n",
    "    # sum_height = city_base_map.sum()\n",
    "    # fill_ratio = sum_height / (size * size * max_height)\n",
    "    # specific_fill_ratio = sum_height / (num * sec_num * sec_num * max_height)\n",
    "\n",
    "    # TODO: how many blocks must be removed/added at each locs - hard quotas map\n",
    "    # check the occupied location\n",
    "\n",
    "    # TODO: how many blocks can be validly removed/added at each locs - soft quotas maps (one add map, one remove map)\n",
    "    # TODO: a range around the mean and std variance - satisfiable\n",
    "\n",
    "    # TODO: convert hard quotas into soft quotas by executing necessary changes first - no hard quotas\n",
    "    # TODO: update soft quotas map\n",
    "\n",
    "    # TODO: Loops: if there are still soft quotas and not satisfiable:\n",
    "    # TODO:     check current fill_per_sec versus input values - hints\n",
    "\n",
    "    # TODO:     if fill_per_sec is lower than expected: move twd add, else move twd remove (a        stochastic strategy)\n",
    "\n",
    "    # TODO:         check local quotas, if available, only add or remove 1 block locally.\n",
    "    # TODO:         update soft quotas maps\n",
    "\n",
    "    # TODO:     if passed certain updates but not yet satisfiable, relax requirements.\n",
    "\n",
    "    # TODO:     check if the map is satisfiable.\n",
    "\n",
    "\n",
    "\n",
    "\n",
    "    return city_base_map"
   ]
  },
  {
   "cell_type": "code",
   "execution_count": 7,
   "outputs": [],
   "source": [
    "def get_blocks_id_list(loc_dict):\n",
    "    \"\"\"\n",
    "    Given a location dictionary whose values are float coordinates,\n",
    "    get the blocks ids these coordinates are in.\n",
    "    :param loc_dict:\n",
    "    :return:\n",
    "    \"\"\"\n",
    "    loc_list = np.unique(\n",
    "        [\n",
    "            (coords - coords % 1).astype(int_dtype) for coords in loc_dict.values()\n",
    "        ],\n",
    "        axis=0\n",
    "    )\n",
    "    return loc_list"
   ],
   "metadata": {
    "collapsed": false,
    "ExecuteTime": {
     "end_time": "2023-06-04T12:06:09.113648815Z",
     "start_time": "2023-06-04T12:06:09.087134093Z"
    }
   }
  },
  {
   "cell_type": "code",
   "execution_count": 8,
   "id": "8df85b6f",
   "metadata": {
    "ExecuteTime": {
     "end_time": "2023-06-04T12:06:10.029889526Z",
     "start_time": "2023-06-04T12:06:09.940433695Z"
    }
   },
   "outputs": [],
   "source": [
    "def spawn_goal(distance, agent_type, drone_centroid=np.array([5, 0, 5])):\n",
    "    \"\"\"\n",
    "    can be replaced with (self).\n",
    "    only accept 1 goal. distance and agent type can be accessed via self.\n",
    "    :param distance: a floating number indicating distance between.\n",
    "    :param agent_type:\n",
    "    :param centroid:\n",
    "    :return: a goal dict whose key is goal agent_type id, and a goal coord list.\n",
    "    \"\"\"\n",
    "    # goal would be randomly placed within this sphere around the centroid\n",
    "\n",
    "    # get the goal agent_ids\n",
    "    goal_id = [i for i in range(num_agents) if agent_type[i] == 0]\n",
    "    assert len(goal_id)==1\n",
    "    goal_dict = {}\n",
    "    distance = np.array([0, 1, 0]) * distance\n",
    "    place_radius = 0.4\n",
    "    displacement = np.random.random(3) * place_radius\n",
    "    # print(f\"displacement: {displacement}\")\n",
    "    goal_dict[goal_id[0]] = drone_centroid + distance + displacement\n",
    "    return goal_dict"
   ]
  },
  {
   "cell_type": "code",
   "execution_count": 9,
   "id": "fd208dfa",
   "metadata": {
    "ExecuteTime": {
     "end_time": "2023-06-04T12:06:10.828331349Z",
     "start_time": "2023-06-04T12:06:10.810591602Z"
    }
   },
   "outputs": [],
   "source": [
    "def spawn_drones(num_drones, agent_type, centroid=np.array([5, 0, 5])):\n",
    "    \"\"\"\n",
    "    can be replaced with (self).\n",
    "    num_drones and agent_type can be accessed via self.\n",
    "    :return: a drones dict whose keys are drone agent type id, and a drones coord list.\n",
    "    \"\"\"\n",
    "    # spacing parameters, determine the initial distance between drones\n",
    "    spacing = float_dtype(0.1)\n",
    "    # actually, the coordinate in centroid is indicating the block number\n",
    "    # we need to stagger it to get the block centroid coords\n",
    "    stagger = np.array([0.5, 0, 0.5]).astype(float_dtype)\n",
    "    # print(centroid)\n",
    "    centroid = centroid + stagger\n",
    "    even_rule = np.array([\n",
    "        [-1, 0, 0], [1, 0, 0],\n",
    "        [0, 0, -1], [0, 0, 1],\n",
    "        [-1, 0, 1], [1, 0, -1],\n",
    "        [1, 0, 1], [-1, 0, -1]\n",
    "    ], dtype=int_dtype)\n",
    "\n",
    "    # get the drone id\n",
    "    drones_id = [i for i in range(num_agents) if agent_type[i] == 1]\n",
    "    assert len(drones_id)==num_drones\n",
    "\n",
    "    drones_loc = {}\n",
    "    if num_drones == 1:\n",
    "        drones_loc[drones_id[0]] = centroid\n",
    "    elif num_drones % 2 == 0: # even number of drones\n",
    "        for _id in range(num_drones):\n",
    "            # print(\"step:\", even_rule[drone_id % len(even_rule)])\n",
    "            # print(\"spacing:\", spacing)\n",
    "            # print(\"iter:\", math.ceil(drone_id / len(even_rule)))\n",
    "            update = even_rule[_id % len(even_rule)] * spacing * math.ceil((_id + 1) / len(even_rule))\n",
    "            # print(\"update: \", update, \"type: \", type(update))\n",
    "            drones_loc[drones_id[_id]] = (\n",
    "                centroid + update\n",
    "            )\n",
    "    else:\n",
    "        # odd number of drones\n",
    "        drones_loc[drones_id[0]] = centroid\n",
    "        for _id in range(num_drones - 1):\n",
    "            update = even_rule[_id % len(even_rule)] * spacing * math.ceil((_id\n",
    "              + 1)/ len(even_rule))\n",
    "            drones_loc[drones_id[_id + 1]] = (\n",
    "                centroid + update\n",
    "            )\n",
    "\n",
    "    return drones_loc"
   ]
  },
  {
   "cell_type": "code",
   "execution_count": 23,
   "outputs": [],
   "source": [
    "def spawn_obstacles(num_obstacles, agent_type, goal_loc_centroid, drones_loc_centroid=np.array([5.5, 0, 5.5])):\n",
    "    \"\"\"\n",
    "\n",
    "    :param num_obstacles:\n",
    "    :param agent_type:\n",
    "    :param goal_loc_centroid:\n",
    "    :param drones_loc_centroid:\n",
    "    :return: a obstacles dict whose keys are obstacles agent type id, and a obstacles coord list\n",
    "    \"\"\"\n",
    "    # get the occupied blocks of drones and goal\n",
    "    # 3 by 3 blocks around drones centroid and 3 by 3 blocks around goal centroid are reserved.\n",
    "    env_size = 10\n",
    "    env_max_height = 20\n",
    "    env_min_height = 5 # no spawning of obstacles below this height\n",
    "    stagger = np.array([0.5, 0, 0.5]).astype(float_dtype)\n",
    "    place_radius = 0.4\n",
    "    displacement = (np.random.random(3) * place_radius).astype(float_dtype)\n",
    "    # get the obstacles agent ids\n",
    "    obstacles_id = [i for i in range(num_agents) if agent_type[i] == 0.5]\n",
    "    assert len(obstacles_id)==num_obstacles\n",
    "    # drones_loc_centroid += stagger\n",
    "    # goal_loc_centroid += stagger\n",
    "    three_by_three_walk = np.array(\n",
    "        [\n",
    "            [0, 0, 0], [1, 0, 0], [-1, 0, 0],\n",
    "            [0, 0, 1], [1, 0, 1], [-1, 0, 1],\n",
    "            [0, 0, -1], [1, 0, -1], [-1, 0, -1]\n",
    "        ]\n",
    "    ).astype(int_dtype)\n",
    "    drones_blocks_centroids = [(\n",
    "            drones_loc_centroid + three_by_three_walk[i])\n",
    "            for i in range(three_by_three_walk.shape[0]) ]\n",
    "\n",
    "    goal_blocks_centroids = [(\n",
    "            goal_loc_centroid + three_by_three_walk[i])\n",
    "            for i in range(three_by_three_walk.shape[0]) ]\n",
    "\n",
    "    occupied = np.concatenate((\n",
    "        drones_blocks_centroids, goal_blocks_centroids))\n",
    "\n",
    "    empty_blocks_id = [\n",
    "        np.array([x, y, z]).astype(int_dtype)\n",
    "        for x in range(env_size)\n",
    "        for y in range(env_size)\n",
    "        for z in range(env_min_height, env_max_height) if not\n",
    "        np.any(\n",
    "            np.all(\n",
    "                np.array([x, y, z]).astype(int_dtype) == occupied, axis=1\n",
    "            )\n",
    "        )\n",
    "    ]\n",
    "\n",
    "    empty_indices = np.random.choice(\n",
    "        len(empty_blocks_id), num_obstacles, replace=False\n",
    "    )\n",
    "\n",
    "    obstacles_blocks = [\n",
    "        empty_blocks_id[empty_indices[i]] for i in range(num_obstacles)\n",
    "    ]\n",
    "\n",
    "    obstacles_loc_dict = {\n",
    "        obstacles_id[_id]: obstacles_blocks[_id]\n",
    "        for _id in range(num_obstacles)\n",
    "    }\n",
    "     # obstacles_coord_list = [\n",
    "     #     obstacles_blocks[i] for i in range(num_obstacles)\n",
    "     # ]\n",
    "    return obstacles_loc_dict\n"
   ],
   "metadata": {
    "collapsed": false,
    "ExecuteTime": {
     "end_time": "2023-06-04T12:13:59.821295211Z",
     "start_time": "2023-06-04T12:13:59.774437992Z"
    }
   }
  },
  {
   "cell_type": "code",
   "execution_count": 11,
   "outputs": [],
   "source": [
    "def base_map2bool_maps(city_base_map, size, height):\n",
    "    \"\"\"\n",
    "    Return the bool maps of the city for 3-D rendering.\n",
    "    :param city_base_map:\n",
    "    :param size:\n",
    "    :param height:\n",
    "    :return:\n",
    "    \"\"\"\n",
    "    city_maps = np.zeros((size, size, height), dtype=int)\n",
    "\n",
    "    for i in range(height):\n",
    "        city_maps[:, :, i] = (city_base_map >= 1)\n",
    "        city_base_map -= 1\n",
    "    return city_maps"
   ],
   "metadata": {
    "collapsed": false,
    "ExecuteTime": {
     "end_time": "2023-06-04T12:06:12.650509592Z",
     "start_time": "2023-06-04T12:06:12.640286920Z"
    }
   }
  },
  {
   "cell_type": "code",
   "execution_count": 12,
   "outputs": [],
   "source": [
    "def test_generate_city(size, max_height, difficulty_level, sec_num=2):\n",
    "\n",
    "    city_base_map = np.zeros((size, size), dtype=int)\n",
    "\n",
    "    # the interpolation of mean height and std height\n",
    "    mean_height_list = np.linspace(0.3, 0.9, 10)\n",
    "    std_height_list = np.geomspace(2, 0.4, 10)\n",
    "\n",
    "    # randomly sample pair from above\n",
    "    idx = random.randint(0, len(mean_height_list)-1)\n",
    "    mean_height = mean_height_list[idx]\n",
    "    std_height = std_height_list[idx]\n",
    "\n",
    "    # based on difficulty level, select the cluster-ness\n",
    "    fill_per_sec = difficulty_level / 10\n",
    "\n",
    "    h_mean = int(max_height * mean_height)\n",
    "    h_std = int(h_mean * std_height)\n",
    "    cell_size = int(size / sec_num)\n",
    "    num = int(fill_per_sec * cell_size**2)\n",
    "\n",
    "    a_min = np.zeros((num), dtype=int)\n",
    "    a_max = np.full((num), max_height, dtype=int)\n",
    "\n",
    "    for i in range(sec_num):\n",
    "        for j in range(sec_num):\n",
    "            building_height = np.clip(np.random.normal(h_mean, h_std, num), a_min, a_max)\n",
    "            height_list = np.concatenate((building_height, np.zeros(cell_size*cell_size - num)))\n",
    "            np.random.shuffle(height_list)\n",
    "            block_height = np.reshape(height_list, (cell_size, cell_size))\n",
    "            city_base_map[i*cell_size: (i+1)*cell_size, j*cell_size:(j+1)*cell_size] = block_height\n",
    "\n",
    "    sum_height = city_base_map.sum()\n",
    "#     fill_ratio = sum_height / (size * size * max_height)\n",
    "#     specific_fill_ratio = sum_height / (num * sec_num * sec_num * max_height)\n",
    "\n",
    "    return city_base_map"
   ],
   "metadata": {
    "collapsed": false,
    "ExecuteTime": {
     "end_time": "2023-06-04T12:06:13.594097558Z",
     "start_time": "2023-06-04T12:06:13.570929915Z"
    }
   }
  },
  {
   "cell_type": "code",
   "execution_count": 13,
   "outputs": [],
   "source": [
    "def get_buildings_dict(cbm):\n",
    "    env_size = 10\n",
    "    b_dict = {}\n",
    "    for x in range(env_size):\n",
    "        for y in range(env_size):\n",
    "            if cbm[x, y]:\n",
    "                b_dict[(x, y)] = cbm[x, y]\n",
    "    return b_dict"
   ],
   "metadata": {
    "collapsed": false,
    "ExecuteTime": {
     "end_time": "2023-06-04T12:06:15.653983845Z",
     "start_time": "2023-06-04T12:06:15.602495681Z"
    }
   }
  },
  {
   "cell_type": "code",
   "execution_count": 42,
   "outputs": [],
   "source": [
    "import mayavi.mlab\n",
    "from mayavi import mlab\n",
    "# mlab.init_notebook()\n",
    "def mayavi_render_point(p_):\n",
    "    x_, y_, z_ = np.transpose(p_)\n",
    "    mayavi.mlab.points3d(\n",
    "        x_, y_, z_, color=(1, 0, 0), scale_factor=0.05\n",
    "    )\n",
    "    mayavi.mlab.show()\n",
    "\n",
    "def mayavi_render_city(data):\n",
    "    xx, yy, zz = np.where(data==1)\n",
    "    mayavi.mlab.points3d(\n",
    "        xx, yy, zz, mode=\"cube\", color=(0, 1, 0), scale_factor=1\n",
    "    )\n",
    "    mayavi.mlab.show()\n",
    "\n",
    "def mayavi_render_all(data, p_):\n",
    "    \"\"\"\n",
    "    render city, as well as drones, goal, and obstacles with different colors.\n",
    "    :param data: city bool maps\n",
    "    :param p_: expected three un-transposed coords lists\n",
    "    :return: none.\n",
    "    \"\"\"\n",
    "    mlab.barchart(data)\n",
    "    mlab.vectorbar()\n",
    "\n",
    "    a_, b_, c_ = p_\n",
    "\n",
    "    x1, y1, z1 = np.transpose(a_)\n",
    "    mayavi.mlab.points3d(\n",
    "        x1, y1, z1, color=(1, 0, 0), scale_factor=1\n",
    "    )\n",
    "\n",
    "    x2, y2, z2 = np.transpose(b_)\n",
    "    mayavi.mlab.points3d(\n",
    "        x2, y2, z2, color=(0.25, 0.25, 0.5), scale_factor=1\n",
    "    )\n",
    "\n",
    "    x3, y3, z3 = np.transpose(b_)\n",
    "    mayavi.mlab.points3d(\n",
    "        x3, y3, z3, color=(0.25, 0.5, 0.25), scale_factor=1\n",
    "    )\n",
    "    mayavi.mlab.show()\n",
    "\n",
    "\n",
    "# data = (100, 100, 100)\n",
    "# data = np.zeros(data)\n",
    "# data[0:50, 50:70, 0:50] = 1\n",
    "# data[0:50, 0:20, 0:50] = 1\n",
    "#\n",
    "# xx, yy, zz = np.where(data == 1)\n",
    "#\n",
    "# mayavi.mlab.points3d(xx, yy, zz,\n",
    "#                      mode=\"cube\",\n",
    "#                      color=(0, 1, 0),\n",
    "#                      scale_factor=1)\n",
    "# mayavi.mlab.show()"
   ],
   "metadata": {
    "collapsed": false,
    "ExecuteTime": {
     "end_time": "2023-06-04T12:29:29.902840866Z",
     "start_time": "2023-06-04T12:29:29.882198543Z"
    }
   }
  },
  {
   "cell_type": "markdown",
   "source": [
    "## Integrated testing\n",
    "\n",
    "#### Spawn the stuffs individually."
   ],
   "metadata": {
    "collapsed": false
   }
  },
  {
   "cell_type": "code",
   "execution_count": 24,
   "outputs": [
    {
     "name": "stdout",
     "output_type": "stream",
     "text": [
      "agent_type: {0: 0.5, 1: 1, 2: 0.5, 3: 1, 4: 0.5, 5: 1, 6: 0.5, 7: 1, 8: 1, 9: 0.5, 10: 0.5, 11: 0.5, 12: 0.5, 13: 0.5, 14: 1, 15: 1, 16: 1, 17: 1, 18: 0.5, 19: 1, 20: 0}\n",
      "\n",
      "drones set: [ 5  8  3 17  1 19 15  7 14 16]\n",
      "\n",
      "drones: {1: True, 3: True, 5: True, 7: True, 8: True, 14: True, 15: True, 16: True, 17: True, 19: True}\n",
      "\n",
      "obstacles: {0: True, 2: True, 4: True, 6: True, 9: True, 10: True, 11: True, 12: True, 13: True, 18: True}\n",
      "\n",
      "goals:{21: True}\n",
      "\n"
     ]
    }
   ],
   "source": [
    "num_drones = 10\n",
    "num_goals = 1\n",
    "num_obstacles = 10\n",
    "num_agents = 21\n",
    "\n",
    "drone_set = np.random.choice(\n",
    "    np.arange(num_agents - 1), num_drones, replace=False\n",
    ")\n",
    "agent_type = {}\n",
    "drones = {}\n",
    "obstacles = {}\n",
    "goals = {}\n",
    "# similarly, only care about the drones and obstacles\n",
    "for agent_id in range(num_agents - 1):\n",
    "    if agent_id in set(drone_set):\n",
    "        agent_type[agent_id] = 1 # drones\n",
    "        drones[agent_id] = True\n",
    "    else:\n",
    "        agent_type[agent_id] = 1 / 2 # obstacles\n",
    "        obstacles[agent_id] = True\n",
    "\n",
    "# we append the goal agent id and info at last\n",
    "agent_type[num_agents-1] = 0 # goal\n",
    "goals[num_agents] = True\n",
    "\n",
    "print(f\"agent_type: {agent_type}\\n\")\n",
    "print(f\"drones set: {drone_set}\\n\")\n",
    "print(f\"drones: {drones}\\n\")\n",
    "print(f\"obstacles: {obstacles}\\n\")\n",
    "print(f\"goals:{goals}\\n\")\n"
   ],
   "metadata": {
    "collapsed": false,
    "ExecuteTime": {
     "end_time": "2023-06-04T12:14:06.645987423Z",
     "start_time": "2023-06-04T12:14:06.578148753Z"
    }
   }
  },
  {
   "cell_type": "code",
   "execution_count": 25,
   "outputs": [
    {
     "name": "stdout",
     "output_type": "stream",
     "text": [
      "{1: array([5.4, 0. , 5.5]), 3: array([5.6, 0. , 5.5]), 5: array([5.5, 0. , 5.4]), 7: array([5.5, 0. , 5.6]), 8: array([5.4, 0. , 5.6]), 14: array([5.6, 0. , 5.4]), 15: array([5.6, 0. , 5.6]), 16: array([5.4, 0. , 5.4]), 17: array([5.3, 0. , 5.5]), 19: array([5.7, 0. , 5.5])}\n"
     ]
    }
   ],
   "source": [
    "o_dict = spawn_obstacles(10, agent_type, np.array([5, 3, 5]))\n",
    "d_dict = spawn_drones(10, agent_type)\n",
    "d_blk_centroid = np.array([5, 0, 5]).astype(int_dtype)\n",
    "dis = 2.7\n",
    "g_dict = spawn_goal(dis, agent_type)\n",
    "\n",
    "o_list = get_blocks_id_list(o_dict)\n",
    "d_list = get_blocks_id_list(d_dict)\n",
    "g_list = get_blocks_id_list(g_dict)\n",
    "\n",
    "# print(o_list)\n",
    "# print(len(o_list))\n",
    "# print(d_list)\n",
    "# print(len(d_list))\n",
    "# print(g_list)\n",
    "\n",
    "occ_list = np.concatenate((o_list, d_list, g_list))\n",
    "gx, gy, gz = g_list[0]\n",
    "d_centroid = np.array([5, 0, 5]).astype(int_dtype)\n",
    "d_x, d_y, d_z = d_centroid\n",
    "path = Bresenham3D(gx, gy, gz, d_x, d_y, d_z)\n",
    "print(d_dict)\n",
    "# mayavi_render_point(d_list)"
   ],
   "metadata": {
    "collapsed": false,
    "ExecuteTime": {
     "end_time": "2023-06-04T12:14:10.672947776Z",
     "start_time": "2023-06-04T12:14:10.602773811Z"
    }
   }
  },
  {
   "cell_type": "code",
   "execution_count": 26,
   "outputs": [
    {
     "name": "stdout",
     "output_type": "stream",
     "text": [
      "[[ 1  3 18]\n",
      " [ 1  8 18]\n",
      " [ 2  1 14]\n",
      " [ 3  6 12]\n",
      " [ 3  6 19]\n",
      " [ 3  8 10]\n",
      " [ 4  0 13]\n",
      " [ 5  1 12]\n",
      " [ 6  9  8]\n",
      " [ 9  3 12]]\n"
     ]
    }
   ],
   "source": [
    "# print(occ_list)\n",
    "print(o_list)"
   ],
   "metadata": {
    "collapsed": false,
    "ExecuteTime": {
     "end_time": "2023-06-04T12:14:15.752624841Z",
     "start_time": "2023-06-04T12:14:15.683781968Z"
    }
   }
  },
  {
   "cell_type": "code",
   "execution_count": 27,
   "outputs": [],
   "source": [
    "d_coords = np.array([coord for coord in d_dict.values()])\n",
    "# print(d_coords)\n",
    "d_ = np.transpose(d_coords)\n",
    "# print(d_)\n",
    "mayavi_render_point(d_coords)"
   ],
   "metadata": {
    "collapsed": false,
    "ExecuteTime": {
     "end_time": "2023-06-04T12:14:24.580901792Z",
     "start_time": "2023-06-04T12:14:19.313217146Z"
    }
   }
  },
  {
   "cell_type": "markdown",
   "source": [
    "#### Check and execute hard quota"
   ],
   "metadata": {
    "collapsed": false
   }
  },
  {
   "cell_type": "code",
   "execution_count": 28,
   "outputs": [
    {
     "name": "stdout",
     "output_type": "stream",
     "text": [
      "[[19  0  0 12 13 10  0  9  0 20]\n",
      " [ 0 19  0  0  5  0  0 15  0  0]\n",
      " [20 16  0  0  0  9 20  0  7  0]\n",
      " [ 0  8 15  7 16  0  9  0 20 20]\n",
      " [ 0  0 14  0  0 14  0  0  9  0]\n",
      " [14 12  0  0  0  0  0  0  9  0]\n",
      " [ 0 20  0  8  0 19  0  0 20  0]\n",
      " [ 0 15 16  0  0 16 20  0  0  0]\n",
      " [ 0 20  4  0 20  8  0 20 13 16]\n",
      " [15  8  0  0 12 20  0  0 20 20]]\n",
      "occ: checking loc:(1, 3), occ: 18, have: 0\n",
      "occ: checking loc:(1, 8), occ: 18, have: 0\n",
      "occ: checking loc:(2, 1), occ: 14, have: 16\n",
      "occ: checking loc:(3, 6), occ: 12, have: 9\n",
      "occ: checking loc:(3, 6), occ: 19, have: 9\n",
      "occ: checking loc:(3, 8), occ: 10, have: 20\n",
      "occ: checking loc:(4, 0), occ: 13, have: 0\n",
      "occ: checking loc:(5, 1), occ: 12, have: 12\n",
      "occ: checking loc:(6, 9), occ: 8, have: 0\n",
      "occ: checking loc:(9, 3), occ: 12, have: 0\n",
      "occ: checking loc:(5, 0), occ: 5, have: 14\n",
      "occ: checking loc:(5, 3), occ: 5, have: 0\n",
      "path: checking loc:(5, 3), have: 0\n",
      "path: checking loc:(5, 2), have: 0\n",
      "path: checking loc:(5, 1), have: 12\n",
      "path: checking loc:(5, 0), have: 14\n",
      "[[  0   0   0   0   0   0   0   0   0   0]\n",
      " [  0   0   0   0   0   0   0   0   0   0]\n",
      " [  0  -3   0   0   0   0   0   0   0   0]\n",
      " [  0   0   0   0   0   0   0   0 -11   0]\n",
      " [  0   0   0   0   0   0   0   0   0   0]\n",
      " [-10  -8   0   0   0   0   0   0   0   0]\n",
      " [  0   0   0   0   0   0   0   0   0   0]\n",
      " [  0   0   0   0   0   0   0   0   0   0]\n",
      " [  0   0   0   0   0   0   0   0   0   0]\n",
      " [  0   0   0   0   0   0   0   0   0   0]]\n"
     ]
    }
   ],
   "source": [
    "c_b_m = test_generate_city(10, 20, 5)\n",
    "print(c_b_m)\n",
    "path_clr = True\n",
    "\n",
    "h_q_m = np.zeros((10, 10), dtype=int_dtype)\n",
    "for (x, y, z) in occ_list:\n",
    "    x_ = x\n",
    "    y_ = y\n",
    "    print(f\"occ: checking loc:{x, y}, occ: {z}, have: {c_b_m[x_, y_]}\")\n",
    "    h_q_m[x_, y_] = \\\n",
    "        (z - (c_b_m[x_, y_] + 1)) * (c_b_m[x_, y_] + 1 - z > 0)\n",
    "\n",
    "# path clr for clear line of sight\n",
    "# first check the removed, denoted as negative entries in hard quota\n",
    "# building height < occ height\n",
    "for (x, y, z) in path:\n",
    "    x_ = x\n",
    "    y_ = y\n",
    "    print(f\"path: checking loc:{x, y}, have: {c_b_m[x_, y_]}\")\n",
    "    if path_clr:\n",
    "        h_q_m[x_, y_] = \\\n",
    "            (5 - (c_b_m[x_, y_] + 1)) * (c_b_m[x_, y_] + 1 > 5)\n",
    "    else:\n",
    "        h_q_m[x_, y_] = (5 - (c_b_m[x_, y_])) * (c_b_m[x_, y_] < 5)\n",
    "print(h_q_m)"
   ],
   "metadata": {
    "collapsed": false,
    "ExecuteTime": {
     "end_time": "2023-06-04T12:14:28.696568309Z",
     "start_time": "2023-06-04T12:14:28.687954650Z"
    }
   }
  },
  {
   "cell_type": "code",
   "execution_count": 40,
   "outputs": [
    {
     "name": "stdout",
     "output_type": "stream",
     "text": [
      "[[19  0  0 12 13 10  0  9  0 20]\n",
      " [ 0 19  0  0  5  0  0 15  0  0]\n",
      " [20 13  0  0  0  9 20  0  7  0]\n",
      " [ 0  8 15  7 16  0  9  0  9 20]\n",
      " [ 0  0 14  0  0 14  0  0  9  0]\n",
      " [ 4  4  0  0  0  0  0  0  9  0]\n",
      " [ 0 20  0  8  0 19  0  0 20  0]\n",
      " [ 0 15 16  0  0 16 20  0  0  0]\n",
      " [ 0 20  4  0 20  8  0 20 13 16]\n",
      " [15  8  0  0 12 20  0  0 20 20]]\n"
     ]
    }
   ],
   "source": [
    "# apply the changes\n",
    "c_b_m_hard = c_b_m + h_q_m\n",
    "print(c_b_m_hard)\n",
    "mlab.barchart(c_b_m_hard)\n",
    "mlab.vectorbar()\n",
    "mlab.show()"
   ],
   "metadata": {
    "collapsed": false,
    "ExecuteTime": {
     "end_time": "2023-06-04T12:28:04.867758748Z",
     "start_time": "2023-06-04T12:27:58.994090728Z"
    }
   }
  },
  {
   "cell_type": "code",
   "execution_count": 43,
   "outputs": [
    {
     "name": "stderr",
     "output_type": "stream",
     "text": [
      "/home/hibiki/miniconda3/envs/warp_drive/lib/python3.7/site-packages/traitsui/__init__.py:23: DeprecationWarning: traitsui.__version__ is deprecated, use impportlib.metadata.version('traitsui') \n",
      "  DeprecationWarning,\n",
      "libpng warning: iCCP: known incorrect sRGB profile\n",
      "/home/hibiki/miniconda3/envs/warp_drive/lib/python3.7/site-packages/traitsui/qt/ui_panel.py:1360: DeprecationWarning: setting create=False is no longer required\n",
      "  widget = HeadingText(*args, create=create, **kw)\n",
      "\u001B[0m\u001B[33m2023-06-04 20:33:09.866 (1818.536s) [        4BE9D740]vtkLabeledDataMapper.cx:454   WARN| vtkLabeledDataMapper (0x559319888430): Could not find label array (index 0) in input.\u001B[0m\n",
      "\u001B[0m\u001B[33m2023-06-04 20:33:11.630 (1820.299s) [        4BE9D740]vtkLabeledDataMapper.cx:454   WARN| vtkLabeledDataMapper (0x559319888430): Could not find label array (index 0) in input.\u001B[0m\n",
      "\u001B[0m\u001B[33m2023-06-04 20:33:11.688 (1820.358s) [        4BE9D740]vtkLabeledDataMapper.cx:454   WARN| vtkLabeledDataMapper (0x559319888430): Could not find label array (index 0) in input.\u001B[0m\n",
      "\u001B[0m\u001B[33m2023-06-04 20:33:11.733 (1820.402s) [        4BE9D740]vtkLabeledDataMapper.cx:454   WARN| vtkLabeledDataMapper (0x559319888430): Could not find label array (index 0) in input.\u001B[0m\n",
      "\u001B[0m\u001B[33m2023-06-04 20:33:11.780 (1820.450s) [        4BE9D740]vtkLabeledDataMapper.cx:454   WARN| vtkLabeledDataMapper (0x559319888430): Could not find label array (index 0) in input.\u001B[0m\n",
      "\u001B[0m\u001B[33m2023-06-04 20:33:11.830 (1820.500s) [        4BE9D740]vtkLabeledDataMapper.cx:454   WARN| vtkLabeledDataMapper (0x559319888430): Could not find label array (index 0) in input.\u001B[0m\n",
      "\u001B[0m\u001B[33m2023-06-04 20:33:11.875 (1820.544s) [        4BE9D740]vtkLabeledDataMapper.cx:454   WARN| vtkLabeledDataMapper (0x559319888430): Could not find label array (index 0) in input.\u001B[0m\n",
      "\u001B[0m\u001B[33m2023-06-04 20:33:11.942 (1820.611s) [        4BE9D740]vtkLabeledDataMapper.cx:454   WARN| vtkLabeledDataMapper (0x559319888430): Could not find label array (index 0) in input.\u001B[0m\n",
      "\u001B[0m\u001B[33m2023-06-04 20:33:11.986 (1820.655s) [        4BE9D740]vtkLabeledDataMapper.cx:454   WARN| vtkLabeledDataMapper (0x559319888430): Could not find label array (index 0) in input.\u001B[0m\n",
      "\u001B[0m\u001B[33m2023-06-04 20:33:12.025 (1820.694s) [        4BE9D740]vtkLabeledDataMapper.cx:454   WARN| vtkLabeledDataMapper (0x559319888430): Could not find label array (index 0) in input.\u001B[0m\n",
      "\u001B[0m\u001B[33m2023-06-04 20:33:12.063 (1820.733s) [        4BE9D740]vtkLabeledDataMapper.cx:454   WARN| vtkLabeledDataMapper (0x559319888430): Could not find label array (index 0) in input.\u001B[0m\n",
      "\u001B[0m\u001B[33m2023-06-04 20:33:12.105 (1820.775s) [        4BE9D740]vtkLabeledDataMapper.cx:454   WARN| vtkLabeledDataMapper (0x559319888430): Could not find label array (index 0) in input.\u001B[0m\n",
      "\u001B[0m\u001B[33m2023-06-04 20:33:12.151 (1820.821s) [        4BE9D740]vtkLabeledDataMapper.cx:454   WARN| vtkLabeledDataMapper (0x559319888430): Could not find label array (index 0) in input.\u001B[0m\n",
      "\u001B[0m\u001B[33m2023-06-04 20:33:12.201 (1820.871s) [        4BE9D740]vtkLabeledDataMapper.cx:454   WARN| vtkLabeledDataMapper (0x559319888430): Could not find label array (index 0) in input.\u001B[0m\n",
      "\u001B[0m\u001B[33m2023-06-04 20:33:12.238 (1820.908s) [        4BE9D740]vtkLabeledDataMapper.cx:454   WARN| vtkLabeledDataMapper (0x559319888430): Could not find label array (index 0) in input.\u001B[0m\n",
      "\u001B[0m\u001B[33m2023-06-04 20:33:12.285 (1820.955s) [        4BE9D740]vtkLabeledDataMapper.cx:454   WARN| vtkLabeledDataMapper (0x559319888430): Could not find label array (index 0) in input.\u001B[0m\n",
      "\u001B[0m\u001B[33m2023-06-04 20:33:12.330 (1820.999s) [        4BE9D740]vtkLabeledDataMapper.cx:454   WARN| vtkLabeledDataMapper (0x559319888430): Could not find label array (index 0) in input.\u001B[0m\n",
      "\u001B[0m\u001B[33m2023-06-04 20:33:12.799 (1821.468s) [        4BE9D740]vtkLabeledDataMapper.cx:454   WARN| vtkLabeledDataMapper (0x559319888430): Could not find label array (index 0) in input.\u001B[0m\n",
      "\u001B[0m\u001B[33m2023-06-04 20:33:12.859 (1821.528s) [        4BE9D740]vtkLabeledDataMapper.cx:454   WARN| vtkLabeledDataMapper (0x559319888430): Could not find label array (index 0) in input.\u001B[0m\n",
      "\u001B[0m\u001B[33m2023-06-04 20:33:12.905 (1821.574s) [        4BE9D740]vtkLabeledDataMapper.cx:454   WARN| vtkLabeledDataMapper (0x559319888430): Could not find label array (index 0) in input.\u001B[0m\n",
      "\u001B[0m\u001B[33m2023-06-04 20:33:12.945 (1821.615s) [        4BE9D740]vtkLabeledDataMapper.cx:454   WARN| vtkLabeledDataMapper (0x559319888430): Could not find label array (index 0) in input.\u001B[0m\n",
      "\u001B[0m\u001B[33m2023-06-04 20:33:12.983 (1821.652s) [        4BE9D740]vtkLabeledDataMapper.cx:454   WARN| vtkLabeledDataMapper (0x559319888430): Could not find label array (index 0) in input.\u001B[0m\n",
      "\u001B[0m\u001B[33m2023-06-04 20:33:13.021 (1821.691s) [        4BE9D740]vtkLabeledDataMapper.cx:454   WARN| vtkLabeledDataMapper (0x559319888430): Could not find label array (index 0) in input.\u001B[0m\n",
      "\u001B[0m\u001B[33m2023-06-04 20:33:13.059 (1821.729s) [        4BE9D740]vtkLabeledDataMapper.cx:454   WARN| vtkLabeledDataMapper (0x559319888430): Could not find label array (index 0) in input.\u001B[0m\n",
      "\u001B[0m\u001B[33m2023-06-04 20:33:13.102 (1821.772s) [        4BE9D740]vtkLabeledDataMapper.cx:454   WARN| vtkLabeledDataMapper (0x559319888430): Could not find label array (index 0) in input.\u001B[0m\n",
      "\u001B[0m\u001B[33m2023-06-04 20:33:13.374 (1822.043s) [        4BE9D740]vtkLabeledDataMapper.cx:454   WARN| vtkLabeledDataMapper (0x559319888430): Could not find label array (index 0) in input.\u001B[0m\n",
      "\u001B[0m\u001B[33m2023-06-04 20:33:13.410 (1822.080s) [        4BE9D740]vtkLabeledDataMapper.cx:454   WARN| vtkLabeledDataMapper (0x559319888430): Could not find label array (index 0) in input.\u001B[0m\n",
      "\u001B[0m\u001B[33m2023-06-04 20:33:13.446 (1822.116s) [        4BE9D740]vtkLabeledDataMapper.cx:454   WARN| vtkLabeledDataMapper (0x559319888430): Could not find label array (index 0) in input.\u001B[0m\n",
      "\u001B[0m\u001B[33m2023-06-04 20:33:13.495 (1822.164s) [        4BE9D740]vtkLabeledDataMapper.cx:454   WARN| vtkLabeledDataMapper (0x559319888430): Could not find label array (index 0) in input.\u001B[0m\n",
      "\u001B[0m\u001B[33m2023-06-04 20:33:13.541 (1822.210s) [        4BE9D740]vtkLabeledDataMapper.cx:454   WARN| vtkLabeledDataMapper (0x559319888430): Could not find label array (index 0) in input.\u001B[0m\n",
      "\u001B[0m\u001B[33m2023-06-04 20:33:13.581 (1822.250s) [        4BE9D740]vtkLabeledDataMapper.cx:454   WARN| vtkLabeledDataMapper (0x559319888430): Could not find label array (index 0) in input.\u001B[0m\n",
      "\u001B[0m\u001B[33m2023-06-04 20:33:13.618 (1822.287s) [        4BE9D740]vtkLabeledDataMapper.cx:454   WARN| vtkLabeledDataMapper (0x559319888430): Could not find label array (index 0) in input.\u001B[0m\n",
      "\u001B[0m\u001B[33m2023-06-04 20:33:13.660 (1822.329s) [        4BE9D740]vtkLabeledDataMapper.cx:454   WARN| vtkLabeledDataMapper (0x559319888430): Could not find label array (index 0) in input.\u001B[0m\n",
      "\u001B[0m\u001B[33m2023-06-04 20:33:13.703 (1822.373s) [        4BE9D740]vtkLabeledDataMapper.cx:454   WARN| vtkLabeledDataMapper (0x559319888430): Could not find label array (index 0) in input.\u001B[0m\n",
      "\u001B[0m\u001B[33m2023-06-04 20:33:13.753 (1822.423s) [        4BE9D740]vtkLabeledDataMapper.cx:454   WARN| vtkLabeledDataMapper (0x559319888430): Could not find label array (index 0) in input.\u001B[0m\n",
      "\u001B[0m\u001B[33m2023-06-04 20:33:13.919 (1822.588s) [        4BE9D740]vtkLabeledDataMapper.cx:454   WARN| vtkLabeledDataMapper (0x559319888430): Could not find label array (index 0) in input.\u001B[0m\n",
      "\u001B[0m\u001B[33m2023-06-04 20:33:13.959 (1822.629s) [        4BE9D740]vtkLabeledDataMapper.cx:454   WARN| vtkLabeledDataMapper (0x559319888430): Could not find label array (index 0) in input.\u001B[0m\n",
      "\u001B[0m\u001B[33m2023-06-04 20:33:13.998 (1822.668s) [        4BE9D740]vtkLabeledDataMapper.cx:454   WARN| vtkLabeledDataMapper (0x559319888430): Could not find label array (index 0) in input.\u001B[0m\n",
      "\u001B[0m\u001B[33m2023-06-04 20:33:14.037 (1822.707s) [        4BE9D740]vtkLabeledDataMapper.cx:454   WARN| vtkLabeledDataMapper (0x559319888430): Could not find label array (index 0) in input.\u001B[0m\n",
      "\u001B[0m\u001B[33m2023-06-04 20:33:14.075 (1822.744s) [        4BE9D740]vtkLabeledDataMapper.cx:454   WARN| vtkLabeledDataMapper (0x559319888430): Could not find label array (index 0) in input.\u001B[0m\n",
      "\u001B[0m\u001B[33m2023-06-04 20:33:14.123 (1822.793s) [        4BE9D740]vtkLabeledDataMapper.cx:454   WARN| vtkLabeledDataMapper (0x559319888430): Could not find label array (index 0) in input.\u001B[0m\n",
      "\u001B[0m\u001B[33m2023-06-04 20:33:14.183 (1822.853s) [        4BE9D740]vtkLabeledDataMapper.cx:454   WARN| vtkLabeledDataMapper (0x559319888430): Could not find label array (index 0) in input.\u001B[0m\n",
      "\u001B[0m\u001B[33m2023-06-04 20:33:14.250 (1822.919s) [        4BE9D740]vtkLabeledDataMapper.cx:454   WARN| vtkLabeledDataMapper (0x559319888430): Could not find label array (index 0) in input.\u001B[0m\n",
      "\u001B[0m\u001B[33m2023-06-04 20:33:14.395 (1823.064s) [        4BE9D740]vtkLabeledDataMapper.cx:454   WARN| vtkLabeledDataMapper (0x559319888430): Could not find label array (index 0) in input.\u001B[0m\n",
      "\u001B[0m\u001B[33m2023-06-04 20:33:14.448 (1823.118s) [        4BE9D740]vtkLabeledDataMapper.cx:454   WARN| vtkLabeledDataMapper (0x559319888430): Could not find label array (index 0) in input.\u001B[0m\n",
      "\u001B[0m\u001B[33m2023-06-04 20:33:14.495 (1823.165s) [        4BE9D740]vtkLabeledDataMapper.cx:454   WARN| vtkLabeledDataMapper (0x559319888430): Could not find label array (index 0) in input.\u001B[0m\n",
      "\u001B[0m\u001B[33m2023-06-04 20:33:14.543 (1823.212s) [        4BE9D740]vtkLabeledDataMapper.cx:454   WARN| vtkLabeledDataMapper (0x559319888430): Could not find label array (index 0) in input.\u001B[0m\n",
      "\u001B[0m\u001B[33m2023-06-04 20:33:14.579 (1823.249s) [        4BE9D740]vtkLabeledDataMapper.cx:454   WARN| vtkLabeledDataMapper (0x559319888430): Could not find label array (index 0) in input.\u001B[0m\n",
      "\u001B[0m\u001B[33m2023-06-04 20:33:14.625 (1823.295s) [        4BE9D740]vtkLabeledDataMapper.cx:454   WARN| vtkLabeledDataMapper (0x559319888430): Could not find label array (index 0) in input.\u001B[0m\n",
      "\u001B[0m\u001B[33m2023-06-04 20:33:14.750 (1823.419s) [        4BE9D740]vtkLabeledDataMapper.cx:454   WARN| vtkLabeledDataMapper (0x559319888430): Could not find label array (index 0) in input.\u001B[0m\n",
      "\u001B[0m\u001B[33m2023-06-04 20:33:14.890 (1823.559s) [        4BE9D740]vtkLabeledDataMapper.cx:454   WARN| vtkLabeledDataMapper (0x559319888430): Could not find label array (index 0) in input.\u001B[0m\n",
      "\u001B[0m\u001B[33m2023-06-04 20:33:14.934 (1823.603s) [        4BE9D740]vtkLabeledDataMapper.cx:454   WARN| vtkLabeledDataMapper (0x559319888430): Could not find label array (index 0) in input.\u001B[0m\n",
      "\u001B[0m\u001B[33m2023-06-04 20:33:14.972 (1823.641s) [        4BE9D740]vtkLabeledDataMapper.cx:454   WARN| vtkLabeledDataMapper (0x559319888430): Could not find label array (index 0) in input.\u001B[0m\n",
      "\u001B[0m\u001B[33m2023-06-04 20:33:15.011 (1823.680s) [        4BE9D740]vtkLabeledDataMapper.cx:454   WARN| vtkLabeledDataMapper (0x559319888430): Could not find label array (index 0) in input.\u001B[0m\n",
      "\u001B[0m\u001B[33m2023-06-04 20:33:15.060 (1823.729s) [        4BE9D740]vtkLabeledDataMapper.cx:454   WARN| vtkLabeledDataMapper (0x559319888430): Could not find label array (index 0) in input.\u001B[0m\n",
      "\u001B[0m\u001B[33m2023-06-04 20:33:15.094 (1823.764s) [        4BE9D740]vtkLabeledDataMapper.cx:454   WARN| vtkLabeledDataMapper (0x559319888430): Could not find label array (index 0) in input.\u001B[0m\n",
      "\u001B[0m\u001B[33m2023-06-04 20:33:15.138 (1823.808s) [        4BE9D740]vtkLabeledDataMapper.cx:454   WARN| vtkLabeledDataMapper (0x559319888430): Could not find label array (index 0) in input.\u001B[0m\n",
      "\u001B[0m\u001B[33m2023-06-04 20:33:15.447 (1824.116s) [        4BE9D740]vtkLabeledDataMapper.cx:454   WARN| vtkLabeledDataMapper (0x559319888430): Could not find label array (index 0) in input.\u001B[0m\n",
      "\u001B[0m\u001B[33m2023-06-04 20:33:15.501 (1824.170s) [        4BE9D740]vtkLabeledDataMapper.cx:454   WARN| vtkLabeledDataMapper (0x559319888430): Could not find label array (index 0) in input.\u001B[0m\n",
      "\u001B[0m\u001B[33m2023-06-04 20:33:15.544 (1824.213s) [        4BE9D740]vtkLabeledDataMapper.cx:454   WARN| vtkLabeledDataMapper (0x559319888430): Could not find label array (index 0) in input.\u001B[0m\n",
      "\u001B[0m\u001B[33m2023-06-04 20:33:15.582 (1824.251s) [        4BE9D740]vtkLabeledDataMapper.cx:454   WARN| vtkLabeledDataMapper (0x559319888430): Could not find label array (index 0) in input.\u001B[0m\n",
      "\u001B[0m\u001B[33m2023-06-04 20:33:15.619 (1824.288s) [        4BE9D740]vtkLabeledDataMapper.cx:454   WARN| vtkLabeledDataMapper (0x559319888430): Could not find label array (index 0) in input.\u001B[0m\n",
      "\u001B[0m\u001B[33m2023-06-04 20:33:15.657 (1824.326s) [        4BE9D740]vtkLabeledDataMapper.cx:454   WARN| vtkLabeledDataMapper (0x559319888430): Could not find label array (index 0) in input.\u001B[0m\n",
      "\u001B[0m\u001B[33m2023-06-04 20:33:15.700 (1824.369s) [        4BE9D740]vtkLabeledDataMapper.cx:454   WARN| vtkLabeledDataMapper (0x559319888430): Could not find label array (index 0) in input.\u001B[0m\n",
      "\u001B[0m\u001B[33m2023-06-04 20:33:15.760 (1824.429s) [        4BE9D740]vtkLabeledDataMapper.cx:454   WARN| vtkLabeledDataMapper (0x559319888430): Could not find label array (index 0) in input.\u001B[0m\n",
      "\u001B[0m\u001B[33m2023-06-04 20:33:15.805 (1824.474s) [        4BE9D740]vtkLabeledDataMapper.cx:454   WARN| vtkLabeledDataMapper (0x559319888430): Could not find label array (index 0) in input.\u001B[0m\n",
      "\u001B[0m\u001B[33m2023-06-04 20:33:15.843 (1824.513s) [        4BE9D740]vtkLabeledDataMapper.cx:454   WARN| vtkLabeledDataMapper (0x559319888430): Could not find label array (index 0) in input.\u001B[0m\n",
      "\u001B[0m\u001B[33m2023-06-04 20:33:15.880 (1824.549s) [        4BE9D740]vtkLabeledDataMapper.cx:454   WARN| vtkLabeledDataMapper (0x559319888430): Could not find label array (index 0) in input.\u001B[0m\n",
      "\u001B[0m\u001B[33m2023-06-04 20:33:16.301 (1824.971s) [        4BE9D740]vtkLabeledDataMapper.cx:454   WARN| vtkLabeledDataMapper (0x559319888430): Could not find label array (index 0) in input.\u001B[0m\n",
      "\u001B[0m\u001B[33m2023-06-04 20:33:17.162 (1825.831s) [        4BE9D740]vtkLabeledDataMapper.cx:454   WARN| vtkLabeledDataMapper (0x559319888430): Could not find label array (index 0) in input.\u001B[0m\n",
      "\u001B[0m\u001B[33m2023-06-04 20:33:17.216 (1825.885s) [        4BE9D740]vtkLabeledDataMapper.cx:454   WARN| vtkLabeledDataMapper (0x559319888430): Could not find label array (index 0) in input.\u001B[0m\n"
     ]
    }
   ],
   "source": [
    "# test and visualize\n",
    "d_coords = np.array([coord for coord in d_dict.values()])\n",
    "o_coords = np.array([coord for coord in o_dict.values()])\n",
    "g_coords = np.array([coord for coord in g_dict.values()])\n",
    "\n",
    "# c_bool_m_hard = base_map2bool_maps(c_b_m_hard, 10, 20)\n",
    "\n",
    "mayavi_render_all(c_b_m_hard, (d_coords,o_coords,g_coords))"
   ],
   "metadata": {
    "collapsed": false,
    "ExecuteTime": {
     "end_time": "2023-06-04T12:35:43.447885386Z",
     "start_time": "2023-06-04T12:29:40.775500585Z"
    }
   }
  },
  {
   "cell_type": "code",
   "execution_count": 44,
   "outputs": [
    {
     "ename": "AssertionError",
     "evalue": "argument shape are not equal",
     "output_type": "error",
     "traceback": [
      "\u001B[0;31m---------------------------------------------------------------------------\u001B[0m",
      "\u001B[0;31mAssertionError\u001B[0m                            Traceback (most recent call last)",
      "\u001B[0;32m/tmp/ipykernel_22214/996978960.py\u001B[0m in \u001B[0;36m<module>\u001B[0;34m\u001B[0m\n\u001B[1;32m     15\u001B[0m \u001B[0mx\u001B[0m\u001B[0;34m,\u001B[0m \u001B[0my\u001B[0m \u001B[0;34m=\u001B[0m \u001B[0mnp\u001B[0m\u001B[0;34m.\u001B[0m\u001B[0mmgrid\u001B[0m\u001B[0;34m[\u001B[0m\u001B[0;36m0.5\u001B[0m\u001B[0;34m:\u001B[0m\u001B[0;36m8.5\u001B[0m\u001B[0;34m:\u001B[0m\u001B[0;36m9j\u001B[0m\u001B[0;34m,\u001B[0m \u001B[0;36m0.5\u001B[0m\u001B[0;34m:\u001B[0m\u001B[0;36m8.5\u001B[0m\u001B[0;34m:\u001B[0m\u001B[0;36m9j\u001B[0m\u001B[0;34m]\u001B[0m\u001B[0;34m\u001B[0m\u001B[0;34m\u001B[0m\u001B[0m\n\u001B[1;32m     16\u001B[0m \u001B[0;31m# s = peak(x, y)\u001B[0m\u001B[0;34m\u001B[0m\u001B[0;34m\u001B[0m\u001B[0;34m\u001B[0m\u001B[0m\n\u001B[0;32m---> 17\u001B[0;31m \u001B[0mmlab\u001B[0m\u001B[0;34m.\u001B[0m\u001B[0mbarchart\u001B[0m\u001B[0;34m(\u001B[0m\u001B[0mx\u001B[0m\u001B[0;34m,\u001B[0m \u001B[0my\u001B[0m\u001B[0;34m,\u001B[0m \u001B[0mc_b_m_hard\u001B[0m\u001B[0;34m)\u001B[0m\u001B[0;34m\u001B[0m\u001B[0;34m\u001B[0m\u001B[0m\n\u001B[0m\u001B[1;32m     18\u001B[0m \u001B[0;31m# mlab.vectorbar()\u001B[0m\u001B[0;34m\u001B[0m\u001B[0;34m\u001B[0m\u001B[0;34m\u001B[0m\u001B[0m\n\u001B[1;32m     19\u001B[0m \u001B[0;31m# mlab.show()\u001B[0m\u001B[0;34m\u001B[0m\u001B[0;34m\u001B[0m\u001B[0;34m\u001B[0m\u001B[0m\n",
      "\u001B[0;32m~/miniconda3/envs/warp_drive/lib/python3.7/site-packages/mayavi/tools/helper_functions.py\u001B[0m in \u001B[0;36mthe_function\u001B[0;34m(*args, **kwargs)\u001B[0m\n\u001B[1;32m     36\u001B[0m \u001B[0;34m\u001B[0m\u001B[0m\n\u001B[1;32m     37\u001B[0m     \u001B[0;32mdef\u001B[0m \u001B[0mthe_function\u001B[0m\u001B[0;34m(\u001B[0m\u001B[0;34m*\u001B[0m\u001B[0margs\u001B[0m\u001B[0;34m,\u001B[0m \u001B[0;34m**\u001B[0m\u001B[0mkwargs\u001B[0m\u001B[0;34m)\u001B[0m\u001B[0;34m:\u001B[0m\u001B[0;34m\u001B[0m\u001B[0;34m\u001B[0m\u001B[0m\n\u001B[0;32m---> 38\u001B[0;31m         \u001B[0;32mreturn\u001B[0m \u001B[0mpipeline\u001B[0m\u001B[0;34m(\u001B[0m\u001B[0;34m*\u001B[0m\u001B[0margs\u001B[0m\u001B[0;34m,\u001B[0m \u001B[0;34m**\u001B[0m\u001B[0mkwargs\u001B[0m\u001B[0;34m)\u001B[0m\u001B[0;34m\u001B[0m\u001B[0;34m\u001B[0m\u001B[0m\n\u001B[0m\u001B[1;32m     39\u001B[0m \u001B[0;34m\u001B[0m\u001B[0m\n\u001B[1;32m     40\u001B[0m     \u001B[0;32mif\u001B[0m \u001B[0mhasattr\u001B[0m\u001B[0;34m(\u001B[0m\u001B[0mpipeline\u001B[0m\u001B[0;34m,\u001B[0m \u001B[0;34m'doc'\u001B[0m\u001B[0;34m)\u001B[0m\u001B[0;34m:\u001B[0m\u001B[0;34m\u001B[0m\u001B[0;34m\u001B[0m\u001B[0m\n",
      "\u001B[0;32m~/miniconda3/envs/warp_drive/lib/python3.7/site-packages/mayavi/tools/helper_functions.py\u001B[0m in \u001B[0;36m__call__\u001B[0;34m(self, *args, **kwargs)\u001B[0m\n\u001B[1;32m     81\u001B[0m             \u001B[0mscene\u001B[0m\u001B[0;34m.\u001B[0m\u001B[0mdisable_render\u001B[0m \u001B[0;34m=\u001B[0m \u001B[0;32mTrue\u001B[0m\u001B[0;34m\u001B[0m\u001B[0;34m\u001B[0m\u001B[0m\n\u001B[1;32m     82\u001B[0m         \u001B[0;31m# Then call the real logic\u001B[0m\u001B[0;34m\u001B[0m\u001B[0;34m\u001B[0m\u001B[0;34m\u001B[0m\u001B[0m\n\u001B[0;32m---> 83\u001B[0;31m         \u001B[0moutput\u001B[0m \u001B[0;34m=\u001B[0m \u001B[0mself\u001B[0m\u001B[0;34m.\u001B[0m\u001B[0m__call_internal__\u001B[0m\u001B[0;34m(\u001B[0m\u001B[0;34m*\u001B[0m\u001B[0margs\u001B[0m\u001B[0;34m,\u001B[0m \u001B[0;34m**\u001B[0m\u001B[0mkwargs\u001B[0m\u001B[0;34m)\u001B[0m\u001B[0;34m\u001B[0m\u001B[0;34m\u001B[0m\u001B[0m\n\u001B[0m\u001B[1;32m     84\u001B[0m         \u001B[0;31m# And re-enable the rendering, if needed.\u001B[0m\u001B[0;34m\u001B[0m\u001B[0;34m\u001B[0m\u001B[0;34m\u001B[0m\u001B[0m\n\u001B[1;32m     85\u001B[0m         \u001B[0;32mif\u001B[0m \u001B[0mscene\u001B[0m \u001B[0;32mis\u001B[0m \u001B[0;32mnot\u001B[0m \u001B[0;32mNone\u001B[0m\u001B[0;34m:\u001B[0m\u001B[0;34m\u001B[0m\u001B[0;34m\u001B[0m\u001B[0m\n",
      "\u001B[0;32m~/miniconda3/envs/warp_drive/lib/python3.7/site-packages/mayavi/tools/helper_functions.py\u001B[0m in \u001B[0;36m__call_internal__\u001B[0;34m(self, *args, **kwargs)\u001B[0m\n\u001B[1;32m   1094\u001B[0m         \"\"\" Override the call to be able to scale automatically the axis.\n\u001B[1;32m   1095\u001B[0m         \"\"\"\n\u001B[0;32m-> 1096\u001B[0;31m         \u001B[0mg\u001B[0m \u001B[0;34m=\u001B[0m \u001B[0mPipeline\u001B[0m\u001B[0;34m.\u001B[0m\u001B[0m__call_internal__\u001B[0m\u001B[0;34m(\u001B[0m\u001B[0mself\u001B[0m\u001B[0;34m,\u001B[0m \u001B[0;34m*\u001B[0m\u001B[0margs\u001B[0m\u001B[0;34m,\u001B[0m \u001B[0;34m**\u001B[0m\u001B[0mkwargs\u001B[0m\u001B[0;34m)\u001B[0m\u001B[0;34m\u001B[0m\u001B[0;34m\u001B[0m\u001B[0m\n\u001B[0m\u001B[1;32m   1097\u001B[0m         \u001B[0mgs\u001B[0m \u001B[0;34m=\u001B[0m \u001B[0mg\u001B[0m\u001B[0;34m.\u001B[0m\u001B[0mglyph\u001B[0m\u001B[0;34m.\u001B[0m\u001B[0mglyph_source\u001B[0m\u001B[0;34m\u001B[0m\u001B[0;34m\u001B[0m\u001B[0m\n\u001B[1;32m   1098\u001B[0m         \u001B[0;31m# Use a cube source for glyphs.\u001B[0m\u001B[0;34m\u001B[0m\u001B[0;34m\u001B[0m\u001B[0;34m\u001B[0m\u001B[0m\n",
      "\u001B[0;32m~/miniconda3/envs/warp_drive/lib/python3.7/site-packages/mayavi/tools/helper_functions.py\u001B[0m in \u001B[0;36m__call_internal__\u001B[0;34m(self, *args, **kwargs)\u001B[0m\n\u001B[1;32m     91\u001B[0m         the last object created by the pipeline.\"\"\"\n\u001B[1;32m     92\u001B[0m         \u001B[0mself\u001B[0m\u001B[0;34m.\u001B[0m\u001B[0mstore_kwargs\u001B[0m\u001B[0;34m(\u001B[0m\u001B[0mkwargs\u001B[0m\u001B[0;34m)\u001B[0m\u001B[0;34m\u001B[0m\u001B[0;34m\u001B[0m\u001B[0m\n\u001B[0;32m---> 93\u001B[0;31m         \u001B[0mself\u001B[0m\u001B[0;34m.\u001B[0m\u001B[0msource\u001B[0m \u001B[0;34m=\u001B[0m \u001B[0mself\u001B[0m\u001B[0;34m.\u001B[0m\u001B[0m_source_function\u001B[0m\u001B[0;34m(\u001B[0m\u001B[0;34m*\u001B[0m\u001B[0margs\u001B[0m\u001B[0;34m,\u001B[0m \u001B[0;34m**\u001B[0m\u001B[0mkwargs\u001B[0m\u001B[0;34m)\u001B[0m\u001B[0;34m\u001B[0m\u001B[0;34m\u001B[0m\u001B[0m\n\u001B[0m\u001B[1;32m     94\u001B[0m         \u001B[0;31m# Copy the pipeline so as not to modify it for the next call\u001B[0m\u001B[0;34m\u001B[0m\u001B[0;34m\u001B[0m\u001B[0;34m\u001B[0m\u001B[0m\n\u001B[1;32m     95\u001B[0m         \u001B[0mself\u001B[0m\u001B[0;34m.\u001B[0m\u001B[0mpipeline\u001B[0m \u001B[0;34m=\u001B[0m \u001B[0mself\u001B[0m\u001B[0;34m.\u001B[0m\u001B[0m_pipeline\u001B[0m\u001B[0;34m[\u001B[0m\u001B[0;34m:\u001B[0m\u001B[0;34m]\u001B[0m\u001B[0;34m\u001B[0m\u001B[0;34m\u001B[0m\u001B[0m\n",
      "\u001B[0;32m~/miniconda3/envs/warp_drive/lib/python3.7/site-packages/mayavi/tools/sources.py\u001B[0m in \u001B[0;36mvertical_vectors_source\u001B[0;34m(*args, **kwargs)\u001B[0m\n\u001B[1;32m   1350\u001B[0m         \u001B[0margs\u001B[0m \u001B[0;34m=\u001B[0m \u001B[0;34m(\u001B[0m\u001B[0mx\u001B[0m\u001B[0;34m,\u001B[0m \u001B[0my\u001B[0m\u001B[0;34m,\u001B[0m \u001B[0mz\u001B[0m\u001B[0;34m,\u001B[0m \u001B[0mdata\u001B[0m\u001B[0;34m)\u001B[0m\u001B[0;34m\u001B[0m\u001B[0;34m\u001B[0m\u001B[0m\n\u001B[1;32m   1351\u001B[0m \u001B[0;34m\u001B[0m\u001B[0m\n\u001B[0;32m-> 1352\u001B[0;31m     \u001B[0mx\u001B[0m\u001B[0;34m,\u001B[0m \u001B[0my\u001B[0m\u001B[0;34m,\u001B[0m \u001B[0mz\u001B[0m\u001B[0;34m,\u001B[0m \u001B[0ms\u001B[0m \u001B[0;34m=\u001B[0m \u001B[0mprocess_regular_scalars\u001B[0m\u001B[0;34m(\u001B[0m\u001B[0;34m*\u001B[0m\u001B[0margs\u001B[0m\u001B[0;34m)\u001B[0m\u001B[0;34m\u001B[0m\u001B[0;34m\u001B[0m\u001B[0m\n\u001B[0m\u001B[1;32m   1353\u001B[0m \u001B[0;34m\u001B[0m\u001B[0m\n\u001B[1;32m   1354\u001B[0m     \u001B[0;32mif\u001B[0m \u001B[0ms\u001B[0m \u001B[0;32mis\u001B[0m \u001B[0;32mnot\u001B[0m \u001B[0;32mNone\u001B[0m\u001B[0;34m:\u001B[0m\u001B[0;34m\u001B[0m\u001B[0;34m\u001B[0m\u001B[0m\n",
      "\u001B[0;32m~/miniconda3/envs/warp_drive/lib/python3.7/site-packages/mayavi/tools/sources.py\u001B[0m in \u001B[0;36mprocess_regular_scalars\u001B[0;34m(*args)\u001B[0m\n\u001B[1;32m    957\u001B[0m             \u001B[0my\u001B[0m\u001B[0;34m.\u001B[0m\u001B[0mshape\u001B[0m \u001B[0;34m==\u001B[0m \u001B[0mz\u001B[0m\u001B[0;34m.\u001B[0m\u001B[0mshape\u001B[0m \u001B[0;32mand\u001B[0m\u001B[0;34m\u001B[0m\u001B[0;34m\u001B[0m\u001B[0m\n\u001B[1;32m    958\u001B[0m             (s is None\n\u001B[0;32m--> 959\u001B[0;31m                or s.shape == z.shape)), \"argument shape are not equal\"\n\u001B[0m\u001B[1;32m    960\u001B[0m \u001B[0;34m\u001B[0m\u001B[0m\n\u001B[1;32m    961\u001B[0m     \u001B[0;32mreturn\u001B[0m \u001B[0mx\u001B[0m\u001B[0;34m,\u001B[0m \u001B[0my\u001B[0m\u001B[0;34m,\u001B[0m \u001B[0mz\u001B[0m\u001B[0;34m,\u001B[0m \u001B[0ms\u001B[0m\u001B[0;34m\u001B[0m\u001B[0;34m\u001B[0m\u001B[0m\n",
      "\u001B[0;31mAssertionError\u001B[0m: argument shape are not equal"
     ]
    }
   ],
   "source": [
    "import numpy as np\n",
    "import mayavi.mlab as mlab\n",
    "from numpy import exp, sin, cos, tan, random, mgrid, ogrid, linspace, sqrt, pi\n",
    "import matplotlib.pyplot as plt\n",
    "mlab.figure(fgcolor=(0, 0, 0), bgcolor=(1, 1, 1))\n",
    "\n",
    "def peak(x, y):\n",
    "    return 3.0*(1.0 - x)**2*exp(-(x**2) - (y + 1.0)**2) - 10*(x/5.0 - x**3 - y**5) * exp(- x**2 - y**2 ) - 1.0 / 3.0 * exp(-(x+1.0)**2 - y**2)\n",
    "\n",
    "# s = np.random.rand(3, 3)\n",
    "# mlab.barchart(s)\n",
    "# mlab.vectorbar()\n",
    "# mlab.show()\n",
    "\n",
    "x, y = np.mgrid[0.5:8.5:9j, 0.5:8.5:9j]\n",
    "# s = peak(x, y)\n",
    "# mlab.barchart(x, y, c_b_m_hard)\n",
    "# mlab.vectorbar()\n",
    "# mlab.show()"
   ],
   "metadata": {
    "collapsed": false,
    "ExecuteTime": {
     "end_time": "2023-06-04T12:38:25.321529008Z",
     "start_time": "2023-06-04T12:38:25.255362912Z"
    }
   }
  },
  {
   "cell_type": "code",
   "execution_count": 1,
   "outputs": [],
   "source": [
    "import heapq\n",
    "max_iter = 50"
   ],
   "metadata": {
    "collapsed": false,
    "ExecuteTime": {
     "end_time": "2023-07-06T08:29:14.073369436Z",
     "start_time": "2023-07-06T08:29:14.040981840Z"
    }
   }
  },
  {
   "cell_type": "code",
   "execution_count": 4,
   "outputs": [],
   "source": [
    "\n",
    "def shortest_path_dijkstra_matrix(adjacency_matrix, start, target):\n",
    "    num_nodes = len(adjacency_matrix)\n",
    "    distances = [float('inf')] * num_nodes\n",
    "    distances[start] = 0\n",
    "    queue = [(0, start)]\n",
    "    parent = {}\n",
    "    visited = []\n",
    "    iter_num = 0\n",
    "    while queue and iter_num < max_iter:\n",
    "        print(f\"curr queue: {queue}\")\n",
    "        current_distance, current_node = heapq.heappop(queue)\n",
    "        print(f\"pop: curr dis: {current_distance}, curr node: {current_node}\")\n",
    "        if current_node == target:\n",
    "            path = [current_node]\n",
    "            while current_node != start:\n",
    "                current_node = parent[current_node]\n",
    "                path.append(current_node)\n",
    "            print(f\"distances list: {distances}\")\n",
    "            return path[::-1]\n",
    "\n",
    "        if current_distance > distances[current_node]:\n",
    "            continue\n",
    "\n",
    "        for neighbor in range(num_nodes):\n",
    "            weight = adjacency_matrix[current_node][neighbor]\n",
    "            if weight > 0:\n",
    "                print(f\"checking: {neighbor}, weight: {weight}\")\n",
    "                distance = current_distance + weight\n",
    "                if distance < distances[neighbor]:\n",
    "                    distances[neighbor] = distance\n",
    "                    print(f\"updating: distance: {distance}, neighbor: {neighbor}\")\n",
    "                    heapq.heappush(queue, (distance, neighbor))\n",
    "                    parent[neighbor] = current_node\n",
    "        iter_num += 1\n",
    "        print(iter_num)\n",
    "    return None"
   ],
   "metadata": {
    "collapsed": false,
    "ExecuteTime": {
     "end_time": "2023-07-06T08:29:51.997320685Z",
     "start_time": "2023-07-06T08:29:51.952215940Z"
    }
   }
  },
  {
   "cell_type": "code",
   "execution_count": 5,
   "outputs": [
    {
     "name": "stdout",
     "output_type": "stream",
     "text": [
      "curr queue: [(0, 0)]\n",
      "pop: curr dis: 0, curr node: 0\n",
      "checking: 1, weight: 3\n",
      "updating: distance: 3, neighbor: 1\n",
      "checking: 2, weight: 1\n",
      "updating: distance: 1, neighbor: 2\n",
      "1\n",
      "curr queue: [(1, 2), (3, 1)]\n",
      "pop: curr dis: 1, curr node: 2\n",
      "checking: 0, weight: 1\n",
      "checking: 3, weight: 2\n",
      "updating: distance: 3, neighbor: 3\n",
      "2\n",
      "curr queue: [(3, 1), (3, 3)]\n",
      "pop: curr dis: 3, curr node: 1\n",
      "checking: 0, weight: 3\n",
      "3\n",
      "curr queue: [(3, 3)]\n",
      "pop: curr dis: 3, curr node: 3\n",
      "distances list: [0, 3, 1, 3]\n"
     ]
    }
   ],
   "source": [
    "import numpy as np\n",
    "adj_matrx = np.array(\n",
    "    [[-1, 3, 1, -1],\n",
    "     [3, -1, -1, -1],\n",
    "     [1, -1, -1, 2],\n",
    "     [-1, -1, 2, -1]]\n",
    ")\n",
    "start = 0\n",
    "end = 3\n",
    "path = shortest_path_dijkstra_matrix(adj_matrx, start, end)"
   ],
   "metadata": {
    "collapsed": false,
    "ExecuteTime": {
     "end_time": "2023-07-06T08:29:54.539474751Z",
     "start_time": "2023-07-06T08:29:54.531756054Z"
    }
   }
  }
 ],
 "metadata": {
  "kernelspec": {
   "display_name": "Python 3 (ipykernel)",
   "language": "python",
   "name": "python3"
  },
  "language_info": {
   "codemirror_mode": {
    "name": "ipython",
    "version": 3
   },
   "file_extension": ".py",
   "mimetype": "text/x-python",
   "name": "python",
   "nbconvert_exporter": "python",
   "pygments_lexer": "ipython3",
   "version": "3.7.12"
  }
 },
 "nbformat": 4,
 "nbformat_minor": 5
}
