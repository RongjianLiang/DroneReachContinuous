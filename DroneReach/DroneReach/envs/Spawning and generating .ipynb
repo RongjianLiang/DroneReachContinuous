{
 "cells": [
  {
   "cell_type": "code",
   "execution_count": 1,
   "id": "cecb6188",
   "metadata": {
    "ExecuteTime": {
     "end_time": "2023-06-06T08:57:10.958084373Z",
     "start_time": "2023-06-06T08:57:09.410593850Z"
    }
   },
   "outputs": [],
   "source": [
    "import numpy as np\n",
    "import math\n",
    "import random\n",
    "from mayavi import mlab\n",
    "\n",
    "float_dtype = np.float32\n",
    "int_dtype = np.int32"
   ]
  },
  {
   "cell_type": "code",
   "execution_count": 2,
   "outputs": [],
   "source": [
    "def Bresenham3D(x1, y1, z1, x2, y2, z2):\n",
    "    ListOfPoints = [[x1, y1, z1]]\n",
    "    dx = abs(x2 - x1)\n",
    "    dy = abs(y2 - y1)\n",
    "    dz = abs(z2 - z1)\n",
    "    if x2 > x1:\n",
    "        xs = 1\n",
    "    else:\n",
    "        xs = -1\n",
    "    if y2 > y1:\n",
    "        ys = 1\n",
    "    else:\n",
    "        ys = -1\n",
    "    if z2 > z1:\n",
    "        zs = 1\n",
    "    else:\n",
    "        zs = -1\n",
    "\n",
    "    # Driving axis is X-axis\n",
    "    if dx >= dy and dx >= dz:\n",
    "        p1 = 2 * dy - dx\n",
    "        p2 = 2 * dz - dx\n",
    "        while x1 != x2:\n",
    "            x1 += xs\n",
    "            if p1 >= 0:\n",
    "                y1 += ys\n",
    "                p1 -= 2 * dx\n",
    "            if p2 >= 0:\n",
    "                z1 += zs\n",
    "                p2 -= 2 * dx\n",
    "            p1 += 2 * dy\n",
    "            p2 += 2 * dz\n",
    "            ListOfPoints.append([x1, y1, z1])\n",
    "\n",
    "    # Driving axis is Y-axis\n",
    "    elif dy >= dx and dy >= dz:\n",
    "        p1 = 2 * dx - dy\n",
    "        p2 = 2 * dz - dy\n",
    "        while y1 != y2:\n",
    "            y1 += ys\n",
    "            if p1 >= 0:\n",
    "                x1 += xs\n",
    "                p1 -= 2 * dy\n",
    "            if p2 >= 0:\n",
    "                z1 += zs\n",
    "                p2 -= 2 * dy\n",
    "            p1 += 2 * dx\n",
    "            p2 += 2 * dz\n",
    "            ListOfPoints.append([x1, y1, z1])\n",
    "\n",
    "    # Driving axis is Z-axis\n",
    "    else:\n",
    "        p1 = 2 * dy - dz\n",
    "        p2 = 2 * dx - dz\n",
    "        while z1 != z2:\n",
    "            z1 += zs\n",
    "            if p1 >= 0:\n",
    "                y1 += ys\n",
    "                p1 -= 2 * dz\n",
    "            if p2 >= 0:\n",
    "                x1 += xs\n",
    "                p2 -= 2 * dz\n",
    "            p1 += 2 * dy\n",
    "            p2 += 2 * dx\n",
    "            ListOfPoints.append([x1, y1, z1])\n",
    "    return ListOfPoints"
   ],
   "metadata": {
    "collapsed": false,
    "ExecuteTime": {
     "end_time": "2023-06-06T08:57:13.041709481Z",
     "start_time": "2023-06-06T08:57:13.015938232Z"
    }
   }
  },
  {
   "cell_type": "code",
   "execution_count": 8,
   "outputs": [
    {
     "data": {
      "text/plain": "False"
     },
     "execution_count": 8,
     "metadata": {},
     "output_type": "execute_result"
    }
   ],
   "source": [
    "x = int_dtype(5.0)\n",
    "isinstance(x, float)"
   ],
   "metadata": {
    "collapsed": false,
    "ExecuteTime": {
     "end_time": "2023-06-06T09:12:00.518765146Z",
     "start_time": "2023-06-06T09:12:00.502478481Z"
    }
   }
  },
  {
   "cell_type": "code",
   "execution_count": 4,
   "outputs": [],
   "source": [
    "def get_blocks_id_list(data):\n",
    "    # usually expects dict or list input\n",
    "    if isinstance(data, dict):\n",
    "        coords_source = data.values()\n",
    "    else:\n",
    "        coords_source = data\n",
    "    # print(\"generate blocks id list:\\n\", data)\n",
    "    loc_list = np.unique(\n",
    "        [\n",
    "            int_dtype(coords - coords % 1 ) for coords in coords_source\n",
    "        ],\n",
    "        axis=0\n",
    "    )\n",
    "    # print(\"generate blocks id list, return:\\n\", loc_list)\n",
    "    return loc_list\n"
   ],
   "metadata": {
    "collapsed": false,
    "ExecuteTime": {
     "end_time": "2023-06-06T09:02:42.656548304Z",
     "start_time": "2023-06-06T09:02:42.605051217Z"
    }
   }
  },
  {
   "cell_type": "code",
   "execution_count": 6,
   "outputs": [
    {
     "ename": "TypeError",
     "evalue": "unsupported operand type(s) for %: 'list' and 'int'",
     "output_type": "error",
     "traceback": [
      "\u001B[0;31m---------------------------------------------------------------------------\u001B[0m",
      "\u001B[0;31mTypeError\u001B[0m                                 Traceback (most recent call last)",
      "\u001B[0;32m/tmp/ipykernel_5343/3579698991.py\u001B[0m in \u001B[0;36m<module>\u001B[0;34m\u001B[0m\n\u001B[0;32m----> 1\u001B[0;31m \u001B[0mget_blocks_id_list\u001B[0m\u001B[0;34m(\u001B[0m\u001B[0;34m[\u001B[0m\u001B[0;34m[\u001B[0m\u001B[0;36m0\u001B[0m\u001B[0;34m,\u001B[0m \u001B[0;36m0.5\u001B[0m\u001B[0;34m,\u001B[0m \u001B[0;36m0\u001B[0m\u001B[0;34m]\u001B[0m\u001B[0;34m]\u001B[0m\u001B[0;34m)\u001B[0m\u001B[0;34m\u001B[0m\u001B[0;34m\u001B[0m\u001B[0m\n\u001B[0m",
      "\u001B[0;32m/tmp/ipykernel_5343/3782763052.py\u001B[0m in \u001B[0;36mget_blocks_id_list\u001B[0;34m(data)\u001B[0m\n\u001B[1;32m      8\u001B[0m     loc_list = np.unique(\n\u001B[1;32m      9\u001B[0m         [\n\u001B[0;32m---> 10\u001B[0;31m             \u001B[0mint_dtype\u001B[0m\u001B[0;34m(\u001B[0m\u001B[0mcoords\u001B[0m \u001B[0;34m-\u001B[0m \u001B[0mcoords\u001B[0m \u001B[0;34m%\u001B[0m \u001B[0;36m1\u001B[0m \u001B[0;34m)\u001B[0m \u001B[0;32mfor\u001B[0m \u001B[0mcoords\u001B[0m \u001B[0;32min\u001B[0m \u001B[0mcoords_source\u001B[0m\u001B[0;34m\u001B[0m\u001B[0;34m\u001B[0m\u001B[0m\n\u001B[0m\u001B[1;32m     11\u001B[0m         ],\n\u001B[1;32m     12\u001B[0m         \u001B[0maxis\u001B[0m\u001B[0;34m=\u001B[0m\u001B[0;36m0\u001B[0m\u001B[0;34m\u001B[0m\u001B[0;34m\u001B[0m\u001B[0m\n",
      "\u001B[0;32m/tmp/ipykernel_5343/3782763052.py\u001B[0m in \u001B[0;36m<listcomp>\u001B[0;34m(.0)\u001B[0m\n\u001B[1;32m      8\u001B[0m     loc_list = np.unique(\n\u001B[1;32m      9\u001B[0m         [\n\u001B[0;32m---> 10\u001B[0;31m             \u001B[0mint_dtype\u001B[0m\u001B[0;34m(\u001B[0m\u001B[0mcoords\u001B[0m \u001B[0;34m-\u001B[0m \u001B[0mcoords\u001B[0m \u001B[0;34m%\u001B[0m \u001B[0;36m1\u001B[0m \u001B[0;34m)\u001B[0m \u001B[0;32mfor\u001B[0m \u001B[0mcoords\u001B[0m \u001B[0;32min\u001B[0m \u001B[0mcoords_source\u001B[0m\u001B[0;34m\u001B[0m\u001B[0;34m\u001B[0m\u001B[0m\n\u001B[0m\u001B[1;32m     11\u001B[0m         ],\n\u001B[1;32m     12\u001B[0m         \u001B[0maxis\u001B[0m\u001B[0;34m=\u001B[0m\u001B[0;36m0\u001B[0m\u001B[0;34m\u001B[0m\u001B[0;34m\u001B[0m\u001B[0m\n",
      "\u001B[0;31mTypeError\u001B[0m: unsupported operand type(s) for %: 'list' and 'int'"
     ]
    }
   ],
   "source": [
    "get_blocks_id_list([[0, 0.5, 0]])"
   ],
   "metadata": {
    "collapsed": false,
    "ExecuteTime": {
     "end_time": "2023-06-06T09:03:00.867091813Z",
     "start_time": "2023-06-06T09:03:00.864172484Z"
    }
   }
  },
  {
   "cell_type": "code",
   "execution_count": 59,
   "outputs": [],
   "source": [
    "def spawn_goal(distance, agent_type, drone_centroid, direction=(0, 1, 0)):\n",
    "    \"\"\"\n",
    "    spawn the goal location, given drone formation centroid and distance.\n",
    "    :param distance: a float.\n",
    "    :param agent_type: accessed via self. for retrieving goal agent id.\n",
    "    :param drone_centroid: access via self.\n",
    "    :param direction: a unit vector from drones to goal.\n",
    "    :return: a dict with key being goal agent id, value being its coord.\n",
    "    \"\"\"\n",
    "    # TODO: move drone centroid, direction to env attributes\n",
    "    assert agent_type[len(agent_type) - 1] == 0\n",
    "    goal_id = len(agent_type) - 1\n",
    "    g_dict = {}\n",
    "    dis_vec = np.array(direction) * distance\n",
    "    place_radius = 0.4 # should be accessed via self, a hyperparameter of env.\n",
    "    displacement = np.random.random(3) * place_radius\n",
    "    g_dict[goal_id] = drone_centroid + dis_vec + displacement\n",
    "    return g_dict"
   ],
   "metadata": {
    "collapsed": false,
    "ExecuteTime": {
     "end_time": "2023-06-06T03:47:59.519713071Z",
     "start_time": "2023-06-06T03:47:59.509614172Z"
    }
   }
  },
  {
   "cell_type": "code",
   "execution_count": 5,
   "outputs": [],
   "source": [
    "def spawn_drones(num_drones, agent_type, centroid):\n",
    "    \"\"\"\n",
    "    spawn given number of drones around a centroid. hyperparameters\n",
    "    include drone spacing and spawn rule.\n",
    "    :param num_drones:\n",
    "    :param agent_type:\n",
    "    :param centroid: a float np array for centroid coords.\n",
    "    :return: a dict with keys being drone agent ids, values being their coords.\n",
    "    \"\"\"\n",
    "    # TODO: move centroid, spacing and rule to env attributes\n",
    "    spacing = float_dtype(0.3)\n",
    "    even_spawn_rule= np.array(\n",
    "        [\n",
    "            [-1, 0, 0], [1, 0, 0],\n",
    "            [0, 0, -1], [0, 0, 1],\n",
    "            [-1, 0, 1], [1, 0, -1],\n",
    "            [1, 0, 1], [-1, 0, -1]\n",
    "        ], dtype=int_dtype\n",
    "    )\n",
    "    spawn_cycle = len(even_spawn_rule)\n",
    "\n",
    "    drone_ids = [i for i in range(len(agent_type)) if agent_type[i] == 1]\n",
    "    assert len(drone_ids)==num_drones\n",
    "\n",
    "    d_dict = {}\n",
    "\n",
    "    if num_drones % 2:\n",
    "        d_dict[drone_ids[0]] = centroid\n",
    "        spawn_num = num_drones - 1\n",
    "    else:\n",
    "        spawn_num = num_drones\n",
    "\n",
    "    for _id in range(spawn_num):\n",
    "        update = even_spawn_rule[_id % spawn_cycle] * spacing * \\\n",
    "                 math.ceil((_id + 1) / spawn_cycle)\n",
    "        d_dict[drone_ids[_id]] = centroid + update\n",
    "\n",
    "\n",
    "    return d_dict"
   ],
   "metadata": {
    "collapsed": false,
    "ExecuteTime": {
     "end_time": "2023-06-06T02:18:38.237242179Z",
     "start_time": "2023-06-06T02:18:38.225806991Z"
    }
   }
  },
  {
   "cell_type": "code",
   "execution_count": 15,
   "outputs": [
    {
     "data": {
      "text/plain": "8"
     },
     "execution_count": 15,
     "metadata": {},
     "output_type": "execute_result"
    }
   ],
   "source": [
    "even_spawn_rule= np.array(\n",
    "        [\n",
    "            [-1, 0, 0], [1, 0, 0],\n",
    "            [0, 0, -1], [0, 0, 1],\n",
    "            [-1, 0, 1], [1, 0, -1],\n",
    "            [1, 0, 1], [-1, 0, -1]\n",
    "        ], dtype=int_dtype\n",
    "    )\n",
    "\n",
    "even_spawn_rule.shape[0]"
   ],
   "metadata": {
    "collapsed": false,
    "ExecuteTime": {
     "end_time": "2023-06-06T10:07:26.420349421Z",
     "start_time": "2023-06-06T10:07:26.366016305Z"
    }
   }
  },
  {
   "cell_type": "code",
   "execution_count": 107,
   "outputs": [],
   "source": [
    "def spawn_obstacles(num_obstacles, agent_type, g_dict, d_dict):\n",
    "    # TODO: access num, agent_type from env attribute, and remove it from arguments\n",
    "    # TODO: access env_size, env_max_height, env_min_height, place radius from env attributes\n",
    "    env_size = 10\n",
    "    env_max_height = 20\n",
    "    env_min_height = 5 # no spawning of obstacles below this height\n",
    "    place_radius = 0.4\n",
    "\n",
    "    stagger = np.array([0.5, 0.5, 0.5], dtype=float_dtype)\n",
    "    displacement = (np.random.rand(num_obstacles, 3) * place_radius).astype(float_dtype)\n",
    "    o_id = [i for i in range(len(agent_type)) if agent_type[i] == 0.5]\n",
    "    assert len(o_id) == num_obstacles\n",
    "\n",
    "    # check the occupied blocks\n",
    "    g_blk = get_blocks_id_list(g_dict)\n",
    "    d_blk = get_blocks_id_list(d_dict)\n",
    "    occupied_blk = np.concatenate((g_blk, d_blk))\n",
    "    # print(occupied_blk.shape)\n",
    "    # print(occupied_blk)\n",
    "\n",
    "    empty_blk = np.array([\n",
    "        np.array([x, y, z]).astype(int_dtype)\n",
    "        for x in range(env_size)\n",
    "        for y in range(env_size)\n",
    "        for z in range(env_min_height, env_max_height) if not\n",
    "        np.any(\n",
    "            np.all(\n",
    "                np.array([x, y, z]).astype(int_dtype) == occupied_blk, axis=1\n",
    "            )\n",
    "        )\n",
    "    ])\n",
    "\n",
    "    np.random.shuffle(empty_blk)\n",
    "    # print(len(empty_blk))\n",
    "    # print(empty_blk)\n",
    "    o_dict = {\n",
    "        o_id[_id]:np.array(\n",
    "            empty_blk[_id] + stagger + displacement[_id], dtype=float_dtype)\n",
    "                for _id in range(num_obstacles)\n",
    "    }\n",
    "    return o_dict"
   ],
   "metadata": {
    "collapsed": false,
    "ExecuteTime": {
     "end_time": "2023-06-06T04:23:24.039665102Z",
     "start_time": "2023-06-06T04:23:24.029121730Z"
    }
   }
  },
  {
   "cell_type": "code",
   "execution_count": 99,
   "outputs": [],
   "source": [
    "def spawn_and_generate_city(\n",
    "        size,\n",
    "        max_height,\n",
    "        difficulty_level,\n",
    "        is_directly_obs,\n",
    "        distance,\n",
    "        direction,\n",
    "        drones_centroid_coord,\n",
    "        agent_type,\n",
    "        num_drones,\n",
    "        num_obstacles,\n",
    "        sec_num=2\n",
    "    ):\n",
    "\n",
    "    assert distance < 1\n",
    "    assert difficulty_level < 10\n",
    "    assert difficulty_level > 1\n",
    "\n",
    "\n",
    "    h_m_list = np.linspace(0.3, 0.7, 10)\n",
    "    h_s_list = np.full(10, 5.5)\n",
    "    idx = np.random.choice(10, 4, replace=False)\n",
    "    h_m = int_dtype(h_m_list[idx] * max_height)\n",
    "    h_s = int_dtype(h_s_list[idx])\n",
    "    f_p_s = difficulty_level / 10\n",
    "    sec_size = int_dtype(size / sec_num)\n",
    "    b_num = int_dtype(f_p_s * sec_size**2)\n",
    "    h_min = np.zeros(b_num, dtype=int_dtype)\n",
    "    h_max = np.full(b_num, max_height, dtype=int_dtype)\n",
    "\n",
    "    coords2block = np.array([-0.5, -0.5, -0.5], dtype=float_dtype)\n",
    "    # spawn the drones, goals, and obstacles\n",
    "    distance = distance * size\n",
    "    d_dict = spawn_drones(num_drones,agent_type,drones_centroid_coord)\n",
    "    g_dict = spawn_goal(distance,agent_type, drones_centroid_coord, direction)\n",
    "    o_dict = spawn_obstacles(num_obstacles,agent_type,g_dict,d_dict)\n",
    "\n",
    "    # debugging info\n",
    "    # print(\"d_dict:\\n\", d_dict)\n",
    "    # print(\"o_dict:\\n\", o_dict)\n",
    "    # print(\"g_dict:\\n\", g_dict)\n",
    "    # convert float dict to blocks ids\n",
    "    d_block = get_blocks_id_list(d_dict)\n",
    "    g_block = get_blocks_id_list(g_dict)\n",
    "    o_block = get_blocks_id_list(o_dict)\n",
    "\n",
    "    # get the L.O.S\n",
    "    d_centroid_block = int_dtype(drones_centroid_coord + coords2block)\n",
    "    gx, gy, gz = g_block[0]\n",
    "    print(d_centroid_block)\n",
    "    dx, dy, dz = d_centroid_block\n",
    "    lineOfSight = Bresenham3D(gx, gy, gz, dx, dy, dz)\n",
    "\n",
    "    occ_blk_list = np.concatenate(\n",
    "        (d_block, g_block, o_block)\n",
    "    )\n",
    "\n",
    "    buf = np.zeros((4, sec_size, sec_size), dtype=int_dtype)\n",
    "    for i in range(4):\n",
    "        b_h = np.clip(\n",
    "            np.random.normal(h_m[i], h_s[i], b_num), h_min, h_max\n",
    "        )\n",
    "        b_h_pad = np.concatenate(\n",
    "            (b_h, np.zeros(sec_size*sec_size - b_num))\n",
    "        )\n",
    "        np.random.shuffle(b_h_pad)\n",
    "        blk_h = np.reshape(b_h_pad, (sec_size, sec_size))\n",
    "        buf[i] = blk_h\n",
    "\n",
    "    sec_0_1 = np.hstack((buf[0], buf[1]))\n",
    "    sec_2_3 = np.hstack((buf[2], buf[3]))\n",
    "    c_b_m = np.vstack((sec_0_1, sec_2_3)).astype(int_dtype)\n",
    "\n",
    "    envelope = np.full((size, size), max_height, dtype=int_dtype)\n",
    "    for (x, y, z) in occ_blk_list:\n",
    "        envelope[x, y] = z - 1\n",
    "\n",
    "    if is_directly_obs:\n",
    "        for (x, y, z) in lineOfSight:\n",
    "            envelope[x, y] = z - 1\n",
    "    else:\n",
    "        for (x, y, _) in lineOfSight:\n",
    "            # if they already satisfy requirement, no need to touch them\n",
    "            c_b_m[x, y] = np.where(c_b_m[x, y] > 4, c_b_m[x, y], 5)\n",
    "\n",
    "    c_b_m = np.where(c_b_m < envelope, c_b_m, envelope)\n",
    "\n",
    "    return c_b_m, d_dict, o_dict, g_dict"
   ],
   "metadata": {
    "collapsed": false,
    "ExecuteTime": {
     "end_time": "2023-06-06T04:17:37.549615221Z",
     "start_time": "2023-06-06T04:17:37.539273390Z"
    }
   }
  },
  {
   "cell_type": "code",
   "execution_count": 96,
   "outputs": [],
   "source": [
    "def mayavi_render(size, data, p_dicts):\n",
    "    \"\"\"\n",
    "    render city, as well as drones, goal, and obstacles with different colors.\n",
    "    :param size: size of the city base map...\n",
    "    :param data: city base map/array, of shape(size, size).\n",
    "    :param p_: three dicts\n",
    "    \"\"\"\n",
    "    # set the background color\n",
    "    mlab.figure(fgcolor=(0, 0, 0), bgcolor=(1, 1, 1))\n",
    "\n",
    "    x, y = np.mgrid[.5:size-.5:size*1j, .5:size-.5:size*1j]\n",
    "    mlab.barchart(x, y, data, colormap='inferno')\n",
    "    mlab.vectorbar(title=\"Buildings height\", nb_labels=10)\n",
    "\n",
    "    d_dict, g_dict, o_dict = p_dicts\n",
    "    d_ = np.array([coord for coord in d_dict.values()])\n",
    "    o_ = np.array([coord for coord in o_dict.values()])\n",
    "    g_ = np.array([coord for coord in g_dict.values()])\n",
    "\n",
    "    x1, y1, z1 = np.transpose(d_)\n",
    "    mlab.points3d(\n",
    "        x1, y1, z1, color=(1, 0, 0), scale_factor=0.15\n",
    "    )\n",
    "\n",
    "    x2, y2, z2 = np.transpose(g_)\n",
    "    mlab.points3d(\n",
    "        x2, y2, z2, color=(1, 0, 1), scale_factor=0.15\n",
    "    )\n",
    "\n",
    "    x3, y3, z3 = np.transpose(o_)\n",
    "    mlab.points3d(\n",
    "        x3, y3, z3, color=(1, 1, 0), scale_factor=0.15\n",
    "    )\n",
    "    mlab.show()\n",
    "\n"
   ],
   "metadata": {
    "collapsed": false,
    "ExecuteTime": {
     "end_time": "2023-06-06T04:14:43.374424274Z",
     "start_time": "2023-06-06T04:14:43.323789283Z"
    }
   }
  },
  {
   "cell_type": "markdown",
   "source": [
    "### Integrated testing"
   ],
   "metadata": {
    "collapsed": false
   }
  },
  {
   "cell_type": "code",
   "execution_count": 11,
   "outputs": [],
   "source": [
    "num_drones = 8\n",
    "num_goals = 4\n",
    "num_obstacles = 10\n",
    "num_agents = 19\n",
    "\n",
    "drone_set = np.random.choice(\n",
    "    np.arange(num_agents - 1), num_drones, replace=False\n",
    ")\n",
    "agent_type = {}\n",
    "drones = {}\n",
    "obstacles = {}\n",
    "goals = {}\n",
    "\n",
    "for agent_id in range(num_agents - num_goals):\n",
    "    if agent_id in set(drone_set):\n",
    "        agent_type[agent_id] = 1 # drones\n",
    "        drones[agent_id] = True\n",
    "    else:\n",
    "        agent_type[agent_id] = 1 / 2 # obstacles\n",
    "        obstacles[agent_id] = True\n",
    "\n",
    "# we append the goal agent id and info at last\n",
    "for goal_id in range(num_agents - num_goals, num_agents):\n",
    "    agent_type[goal_id] = 0 # goal\n",
    "    goals[goal_id] = True"
   ],
   "metadata": {
    "collapsed": false,
    "ExecuteTime": {
     "end_time": "2023-06-06T09:41:32.457171401Z",
     "start_time": "2023-06-06T09:41:32.414132741Z"
    }
   }
  },
  {
   "cell_type": "code",
   "execution_count": 12,
   "outputs": [
    {
     "name": "stdout",
     "output_type": "stream",
     "text": [
      "agent_type: {0: 0.5, 1: 0.5, 2: 0.5, 3: 1, 4: 1, 5: 0.5, 6: 0.5, 7: 1, 8: 0.5, 9: 1, 10: 1, 11: 0.5, 12: 0.5, 13: 1, 14: 1, 15: 0, 16: 0, 17: 0, 18: 0}\n",
      "\n",
      "drones set: [10  7  3 15  9  4 14 13]\n",
      "\n",
      "drones: {3: True, 4: True, 7: True, 9: True, 10: True, 13: True, 14: True}\n",
      "\n",
      "obstacles: {0: True, 1: True, 2: True, 5: True, 6: True, 8: True, 11: True, 12: True}\n",
      "\n",
      "goals:{15: True, 16: True, 17: True, 18: True}\n",
      "\n"
     ]
    }
   ],
   "source": [
    "print(f\"agent_type: {agent_type}\\n\")\n",
    "print(f\"drones set: {drone_set}\\n\")\n",
    "print(f\"drones: {drones}\\n\")\n",
    "print(f\"obstacles: {obstacles}\\n\")\n",
    "print(f\"goals:{goals}\\n\")"
   ],
   "metadata": {
    "collapsed": false,
    "ExecuteTime": {
     "end_time": "2023-06-06T09:41:34.419804107Z",
     "start_time": "2023-06-06T09:41:34.415406282Z"
    }
   }
  },
  {
   "cell_type": "code",
   "execution_count": 13,
   "outputs": [],
   "source": [
    "g_dict = {\n",
    "    g_id:np.zeros(3, dtype=float_dtype)\n",
    "    for g_id in range(num_agents) if agent_type[g_id]==0\n",
    "}"
   ],
   "metadata": {
    "collapsed": false,
    "ExecuteTime": {
     "end_time": "2023-06-06T09:42:26.301312115Z",
     "start_time": "2023-06-06T09:42:26.258325627Z"
    }
   }
  },
  {
   "cell_type": "code",
   "execution_count": 14,
   "outputs": [
    {
     "name": "stdout",
     "output_type": "stream",
     "text": [
      "{15: array([0., 0., 0.], dtype=float32), 16: array([0., 0., 0.], dtype=float32), 17: array([0., 0., 0.], dtype=float32), 18: array([0., 0., 0.], dtype=float32)}\n"
     ]
    }
   ],
   "source": [
    "print(g_dict)"
   ],
   "metadata": {
    "collapsed": false,
    "ExecuteTime": {
     "end_time": "2023-06-06T09:42:35.378063686Z",
     "start_time": "2023-06-06T09:42:35.317701241Z"
    }
   }
  },
  {
   "cell_type": "code",
   "execution_count": 110,
   "outputs": [
    {
     "name": "stdout",
     "output_type": "stream",
     "text": [
      "[9 0 9]\n"
     ]
    }
   ],
   "source": [
    "data, d, o, g = spawn_and_generate_city(20, 18, 5, True, 0.5, [0, 1, 0], [9.5, 0.5, 9.5], agent_type, 8, 10)"
   ],
   "metadata": {
    "collapsed": false,
    "ExecuteTime": {
     "end_time": "2023-06-06T04:23:37.549445529Z",
     "start_time": "2023-06-06T04:23:37.507397382Z"
    }
   }
  },
  {
   "cell_type": "code",
   "execution_count": 111,
   "outputs": [
    {
     "data": {
      "text/plain": "{0: array([9.19999999, 0.5       , 9.5       ]),\n 2: array([9.80000001, 0.5       , 9.5       ]),\n 3: array([9.5       , 0.5       , 9.19999999]),\n 5: array([9.5       , 0.5       , 9.80000001]),\n 6: array([9.19999999, 0.5       , 9.80000001]),\n 9: array([9.80000001, 0.5       , 9.19999999]),\n 10: array([9.80000001, 0.5       , 9.80000001]),\n 11: array([9.19999999, 0.5       , 9.19999999])}"
     },
     "execution_count": 111,
     "metadata": {},
     "output_type": "execute_result"
    }
   ],
   "source": [
    "d"
   ],
   "metadata": {
    "collapsed": false,
    "ExecuteTime": {
     "end_time": "2023-06-06T04:23:40.968897924Z",
     "start_time": "2023-06-06T04:23:40.957532263Z"
    }
   }
  },
  {
   "cell_type": "code",
   "execution_count": 112,
   "outputs": [],
   "source": [
    "mayavi_render(20, data, (d, o, g))"
   ],
   "metadata": {
    "collapsed": false,
    "ExecuteTime": {
     "end_time": "2023-06-06T04:24:17.732172602Z",
     "start_time": "2023-06-06T04:23:42.571960603Z"
    }
   }
  }
 ],
 "metadata": {
  "kernelspec": {
   "display_name": "Python 3 (ipykernel)",
   "language": "python",
   "name": "python3"
  },
  "language_info": {
   "codemirror_mode": {
    "name": "ipython",
    "version": 3
   },
   "file_extension": ".py",
   "mimetype": "text/x-python",
   "name": "python",
   "nbconvert_exporter": "python",
   "pygments_lexer": "ipython3",
   "version": "3.7.12"
  }
 },
 "nbformat": 4,
 "nbformat_minor": 5
}
