{
 "cells": [
  {
   "cell_type": "code",
   "execution_count": 1,
   "metadata": {
    "collapsed": true,
    "ExecuteTime": {
     "end_time": "2023-06-24T09:17:56.827236786Z",
     "start_time": "2023-06-24T09:17:55.073062136Z"
    }
   },
   "outputs": [],
   "source": [
    "import numpy as np\n",
    "from mayavi import mlab\n",
    "import os"
   ]
  },
  {
   "cell_type": "code",
   "execution_count": 4,
   "outputs": [],
   "source": [
    "x, y = np.mgrid[0:3:1, 0:3:1]\n",
    "s = mlab.surf(x, y, np.asarray(x*0.1, 'd'))\n",
    "\n",
    "@mlab.animate\n",
    "def anim():\n",
    "    for i in range(10):\n",
    "        s.mlab_source.scalars = np.asarray(x*0.1*(i+1), 'd')\n",
    "        yield\n",
    "\n",
    "anim()\n",
    "mlab.show()"
   ],
   "metadata": {
    "collapsed": false,
    "ExecuteTime": {
     "end_time": "2023-06-24T04:11:01.521774965Z",
     "start_time": "2023-06-24T04:10:38.265686906Z"
    }
   }
  },
  {
   "cell_type": "code",
   "execution_count": null,
   "outputs": [],
   "source": [
    "# Output path for you animation images\n",
    "import numpy as np\n",
    "from mayavi import mlab\n",
    "import os\n",
    "\n",
    "out_path = './'\n",
    "out_path = os.path.abspath(out_path)\n",
    "fps = 20\n",
    "prefix = 'ani'\n",
    "ext = '.png'\n",
    "\n",
    "mlab.options.offscreen = True\n",
    "# Produce some nice data.\n",
    "n_mer, n_long = 6, 11\n",
    "pi = np.pi\n",
    "dphi = pi/1000.0\n",
    "phi = np.arange(0.0, 2*pi + 0.5*dphi, dphi, 'd')\n",
    "mu = phi*n_mer\n",
    "x = np.cos(mu)*(1+np.cos(n_long*mu/n_mer)*0.5)\n",
    "y = np.sin(mu)*(1+np.cos(n_long*mu/n_mer)*0.5)\n",
    "z = np.sin(n_long*mu/n_mer)*0.5\n",
    "\n",
    "# Init plot\n",
    "plt = mlab.points3d(x[0], y[0], z[0])\n",
    "\n",
    "padding = len(str(len(x)))\n",
    "\n",
    "# Define data source and update routine\n",
    "msplt = plt.mlab_source\n",
    "# @mlab.animate(delay=10)\n",
    "def anim():\n",
    "    f = mlab.gcf()\n",
    "    for i in range(len(x)):\n",
    "        #animation updates here\n",
    "        msplt.set(x=x[i], y=y[i], z=z[i])\n",
    "\n",
    "        # create zeros for padding index positions for organization\n",
    "        zeros = '0'*(padding - len(str(i)))\n",
    "\n",
    "        # concat filename with zero padded index number as suffix\n",
    "        filename = os.path.join(out_path, '{}_{}{}{}'.format(prefix, zeros, i, ext))\n",
    "        mlab.view(distance=15)\n",
    "        mlab.savefig(filename=filename)\n",
    "\n",
    "        yield\n",
    "\n",
    "anim()\n",
    "# mlab.view(distance=15)\n",
    "# mlab.show()\n",
    "\n",
    "# import subprocess\n",
    "# ffmpeg_fname = os.path.join(out_path, '{}_%0{}d{}'.format(prefix, padding, ext))\n",
    "# cmd = 'ffmpeg -f image2 -r {} -i {} -vcodec mpeg4 -y {}.mp4'.format(fps,\n",
    "#                                                                     ffmpeg_fname,\n",
    "#                                                                     prefix)\n",
    "# print(cmd)\n",
    "# subprocess.check_output(['bash','-c', cmd])\n",
    "#\n",
    "# # Remove temp image files with extension\n",
    "# [os.remove(f) for f in os.listdir(out_path) if f.endswith(ext)]"
   ],
   "metadata": {
    "collapsed": false
   }
  },
  {
   "cell_type": "code",
   "execution_count": 4,
   "outputs": [],
   "source": [
    "from mayavi import mlab\n",
    "mlab.options.offscreen = True\n",
    "mlab.test_contour3d()\n",
    "mlab.savefig('example.png')"
   ],
   "metadata": {
    "collapsed": false,
    "ExecuteTime": {
     "end_time": "2023-06-24T09:14:56.022743232Z",
     "start_time": "2023-06-24T09:14:55.650070437Z"
    }
   }
  },
  {
   "cell_type": "code",
   "execution_count": 1,
   "outputs": [
    {
     "data": {
      "text/plain": "<mayavi.tools.animator.Animator at 0x7f1575c883b0>"
     },
     "execution_count": 1,
     "metadata": {},
     "output_type": "execute_result"
    }
   ],
   "source": [
    "from mayavi import mlab\n",
    "f = mlab.figure()\n",
    "f.scene.movie_maker.record = True\n",
    "mlab.test_mesh_sphere_anim()"
   ],
   "metadata": {
    "collapsed": false,
    "ExecuteTime": {
     "end_time": "2023-06-24T09:21:49.624521317Z",
     "start_time": "2023-06-24T09:21:47.728957760Z"
    }
   }
  },
  {
   "cell_type": "code",
   "execution_count": null,
   "outputs": [],
   "source": [
    "from mayavi import mlab\n",
    "mlab.options.offscreen = True\n",
    "@mlab.animate(support_movie=True)\n",
    "def anim():\n",
    "    f = mlab.gcf()\n",
    "    while 1:\n",
    "        f.scene.camera.azimuth(10)\n",
    "        f.scene.render()\n",
    "        yield\n",
    "\n",
    "a = anim()"
   ],
   "metadata": {
    "collapsed": false,
    "is_executing": true
   }
  },
  {
   "cell_type": "code",
   "execution_count": 1,
   "outputs": [
    {
     "data": {
      "text/plain": "0"
     },
     "execution_count": 1,
     "metadata": {},
     "output_type": "execute_result"
    }
   ],
   "source": [
    "import os\n",
    "os.system(\"echo Hello from the other side!\")"
   ],
   "metadata": {
    "collapsed": false,
    "ExecuteTime": {
     "end_time": "2023-06-24T14:40:05.263955039Z",
     "start_time": "2023-06-24T14:40:05.256554964Z"
    }
   }
  }
 ],
 "metadata": {
  "kernelspec": {
   "display_name": "Python 3",
   "language": "python",
   "name": "python3"
  },
  "language_info": {
   "codemirror_mode": {
    "name": "ipython",
    "version": 2
   },
   "file_extension": ".py",
   "mimetype": "text/x-python",
   "name": "python",
   "nbconvert_exporter": "python",
   "pygments_lexer": "ipython2",
   "version": "2.7.6"
  }
 },
 "nbformat": 4,
 "nbformat_minor": 0
}
